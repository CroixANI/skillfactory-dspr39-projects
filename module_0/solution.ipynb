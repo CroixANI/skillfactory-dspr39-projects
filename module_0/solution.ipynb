{
 "metadata": {
  "language_info": {
   "codemirror_mode": {
    "name": "ipython",
    "version": 3
   },
   "file_extension": ".py",
   "mimetype": "text/x-python",
   "name": "python",
   "nbconvert_exporter": "python",
   "pygments_lexer": "ipython3",
   "version": "3.6.9-final"
  },
  "orig_nbformat": 2,
  "kernelspec": {
   "name": "python36964bit3caf8f0d38454a3bbb88f1ec2df9f03d",
   "display_name": "Python 3.6.9 64-bit",
   "language": "python"
  }
 },
 "nbformat": 4,
 "nbformat_minor": 2,
 "cells": [
  {
   "cell_type": "code",
   "execution_count": 33,
   "metadata": {
    "tags": []
   },
   "outputs": [
    {
     "output_type": "stream",
     "name": "stdout",
     "text": [
      "Ваш алгоритм угадывает число в среднем за 5 попыток\n"
     ]
    },
    {
     "output_type": "execute_result",
     "data": {
      "text/plain": [
       "5"
      ]
     },
     "metadata": {},
     "execution_count": 33
    }
   ],
   "source": [
    "import numpy as np\n",
    "import math as m\n",
    "\n",
    "RANGE_MIN = 1\n",
    "RANGE_MAX = 101\n",
    "\n",
    "def get_middle_from_boundary(left, right):\n",
    "    return m.floor((left + right) / 2)\n",
    "\n",
    "def game_core_solution(number):\n",
    "    \"\"\"\n",
    "    Function is used to guess hidden number and returns count of tries\n",
    "    It uses binary search algorithm\n",
    "\n",
    "    Parameters\n",
    "    ----------\n",
    "    number : int -- hidden number\n",
    "    \"\"\"\n",
    "    # set initial boundaries\n",
    "    left = RANGE_MIN\n",
    "    right = RANGE_MAX\n",
    "\n",
    "    count = 1 # set initial value for count of tries\n",
    "    predict = get_middle_from_boundary(left, right) # take first guess in the middle of predefined range\n",
    "    \n",
    "    while left <= right:\n",
    "        if number == predict:\n",
    "            return count # return number of tries\n",
    "        elif number > predict:\n",
    "            left = predict        \n",
    "        else:\n",
    "            right = predict\n",
    "\n",
    "        count += 1 # increase count of tries\n",
    "        predict = get_middle_from_boundary(left, right) # choose next number\n",
    "    \n",
    "    return(count) # return number of tries\n",
    "        \n",
    "        \n",
    "def score_game(game_core):\n",
    "    \"\"\"\n",
    "    Function is used to run '' function 1000 times to find out how quickly it guesses the number\n",
    "\n",
    "    Parameters\n",
    "    ----------\n",
    "    game_core : func -- function that guess the hidden number\n",
    "    \"\"\"\n",
    "    count_ls = []\n",
    "    \n",
    "    np.random.seed(1) # fixing RANDOM SEED so your experiment is reproducible!\n",
    "    random_array = np.random.randint(RANGE_MIN, RANGE_MAX, size=(1000))\n",
    "    for number in random_array:\n",
    "        count_ls.append(game_core(number))\n",
    "    score = int(np.mean(count_ls))\n",
    "    print(f\"Ваш алгоритм угадывает число в среднем за {score} попыток\")\n",
    "    return(score)\n",
    "\n",
    "score_game(game_core_solution)"
   ]
  },
  {
   "cell_type": "code",
   "execution_count": null,
   "metadata": {},
   "outputs": [],
   "source": []
  }
 ]
}