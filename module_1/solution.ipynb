{
 "cells": [
  {
   "cell_type": "code",
   "execution_count": 1,
   "metadata": {
    "_cell_guid": "b1076dfc-b9ad-4769-8c92-a6c4dae69d19",
    "_uuid": "8f2839f25d086af736a60e9eeb907d3b93b6e0e5",
    "colab": {},
    "colab_type": "code",
    "id": "U2D2gTdJVp90"
   },
   "outputs": [],
   "source": [
    "import numpy as np\n",
    "import pandas as pd\n",
    "import seaborn as sns\n",
    "import matplotlib.pyplot as plt\n",
    "from collections import Counter\n",
    "from functools import reduce\n",
    "from itertools import combinations"
   ]
  },
  {
   "cell_type": "code",
   "execution_count": 2,
   "metadata": {
    "_cell_guid": "79c7e3d0-c299-4dcb-8224-4455121ee9b0",
    "_uuid": "d629ff2d2480ee46fbb7e2d37f6b5fab8052498a",
    "colab": {},
    "colab_type": "code",
    "id": "oyGfxL3eVp9-"
   },
   "outputs": [
    {
     "output_type": "execute_result",
     "data": {
      "text/plain": [
       "        imdb_id     budget    revenue         original_title  \\\n",
       "117   tt3614530    5000000    2333684  Jem and the Holograms   \n",
       "1090  tt0319343   32000000  173398518                    Elf   \n",
       "1214  tt0790736  130000000   61648500               R.I.P.D.   \n",
       "102   tt3722070    6000000   41387687    The Lady in the Van   \n",
       "1542  tt0433386   20000000   39143839           The Grudge 2   \n",
       "\n",
       "                                                   cast          director  \\\n",
       "117   Aubrey Peeples|Stefanie Scott|Aurora Perrineau...        Jon M. Chu   \n",
       "1090  Will Ferrell|James Caan|Zooey Deschanel|Mary S...       Jon Favreau   \n",
       "1214  Jeff Bridges|Ryan Reynolds|Kevin Bacon|Stephan...  Robert Schwentke   \n",
       "102   Maggie Smith|Alex Jennings|Frances de la Tour|...   Nicholas Hytner   \n",
       "1542  Sarah Michelle Gellar|Amber Tamblyn|Edison Che...   Takashi Shimizu   \n",
       "\n",
       "                                           tagline  \\\n",
       "117                Every Generation Needs a Voice.   \n",
       "1090        This holiday, discover your inner elf.   \n",
       "1214               To protect and serve the living   \n",
       "102                            A mostly true story   \n",
       "1542  What Was Once Trapped, Will Now Be Unleashed   \n",
       "\n",
       "                                               overview  runtime  \\\n",
       "117   In a hyper-linked social media age, an orphane...      119   \n",
       "1090  When young Buddy falls into Santa's gift sack ...       97   \n",
       "1214  A recently slain cop joins a team of undead po...       96   \n",
       "102   The true story of the relationship between Ala...      104   \n",
       "1542  In Tokyo, a young woman (Tamblyn) is exposed t...      102   \n",
       "\n",
       "                             genres  \\\n",
       "117   Drama|Music|Adventure|Fantasy   \n",
       "1090  Romance|Comedy|Family|Fantasy   \n",
       "1214    Fantasy|Action|Comedy|Crime   \n",
       "102                    Comedy|Drama   \n",
       "1542                Horror|Thriller   \n",
       "\n",
       "                                   production_companies release_date  \\\n",
       "117   Universal Pictures|Blumhouse Productions|Hasbr...   10/22/2015   \n",
       "1090  New Line Cinema|Gold/Miller Productions|Guy Wa...    10/9/2003   \n",
       "1214  Universal Pictures|Original Film|Dark Horse En...    7/18/2013   \n",
       "102                       BBC Films|TriStar Productions   11/13/2015   \n",
       "1542  Columbia Pictures Corporation|Ghost House Pict...   10/13/2006   \n",
       "\n",
       "      vote_average  release_year  \n",
       "117            5.7          2015  \n",
       "1090           6.5          2003  \n",
       "1214           5.3          2013  \n",
       "102            5.9          2015  \n",
       "1542           5.3          2006  "
      ],
      "text/html": "<div>\n<style scoped>\n    .dataframe tbody tr th:only-of-type {\n        vertical-align: middle;\n    }\n\n    .dataframe tbody tr th {\n        vertical-align: top;\n    }\n\n    .dataframe thead th {\n        text-align: right;\n    }\n</style>\n<table border=\"1\" class=\"dataframe\">\n  <thead>\n    <tr style=\"text-align: right;\">\n      <th></th>\n      <th>imdb_id</th>\n      <th>budget</th>\n      <th>revenue</th>\n      <th>original_title</th>\n      <th>cast</th>\n      <th>director</th>\n      <th>tagline</th>\n      <th>overview</th>\n      <th>runtime</th>\n      <th>genres</th>\n      <th>production_companies</th>\n      <th>release_date</th>\n      <th>vote_average</th>\n      <th>release_year</th>\n    </tr>\n  </thead>\n  <tbody>\n    <tr>\n      <th>117</th>\n      <td>tt3614530</td>\n      <td>5000000</td>\n      <td>2333684</td>\n      <td>Jem and the Holograms</td>\n      <td>Aubrey Peeples|Stefanie Scott|Aurora Perrineau...</td>\n      <td>Jon M. Chu</td>\n      <td>Every Generation Needs a Voice.</td>\n      <td>In a hyper-linked social media age, an orphane...</td>\n      <td>119</td>\n      <td>Drama|Music|Adventure|Fantasy</td>\n      <td>Universal Pictures|Blumhouse Productions|Hasbr...</td>\n      <td>10/22/2015</td>\n      <td>5.7</td>\n      <td>2015</td>\n    </tr>\n    <tr>\n      <th>1090</th>\n      <td>tt0319343</td>\n      <td>32000000</td>\n      <td>173398518</td>\n      <td>Elf</td>\n      <td>Will Ferrell|James Caan|Zooey Deschanel|Mary S...</td>\n      <td>Jon Favreau</td>\n      <td>This holiday, discover your inner elf.</td>\n      <td>When young Buddy falls into Santa's gift sack ...</td>\n      <td>97</td>\n      <td>Romance|Comedy|Family|Fantasy</td>\n      <td>New Line Cinema|Gold/Miller Productions|Guy Wa...</td>\n      <td>10/9/2003</td>\n      <td>6.5</td>\n      <td>2003</td>\n    </tr>\n    <tr>\n      <th>1214</th>\n      <td>tt0790736</td>\n      <td>130000000</td>\n      <td>61648500</td>\n      <td>R.I.P.D.</td>\n      <td>Jeff Bridges|Ryan Reynolds|Kevin Bacon|Stephan...</td>\n      <td>Robert Schwentke</td>\n      <td>To protect and serve the living</td>\n      <td>A recently slain cop joins a team of undead po...</td>\n      <td>96</td>\n      <td>Fantasy|Action|Comedy|Crime</td>\n      <td>Universal Pictures|Original Film|Dark Horse En...</td>\n      <td>7/18/2013</td>\n      <td>5.3</td>\n      <td>2013</td>\n    </tr>\n    <tr>\n      <th>102</th>\n      <td>tt3722070</td>\n      <td>6000000</td>\n      <td>41387687</td>\n      <td>The Lady in the Van</td>\n      <td>Maggie Smith|Alex Jennings|Frances de la Tour|...</td>\n      <td>Nicholas Hytner</td>\n      <td>A mostly true story</td>\n      <td>The true story of the relationship between Ala...</td>\n      <td>104</td>\n      <td>Comedy|Drama</td>\n      <td>BBC Films|TriStar Productions</td>\n      <td>11/13/2015</td>\n      <td>5.9</td>\n      <td>2015</td>\n    </tr>\n    <tr>\n      <th>1542</th>\n      <td>tt0433386</td>\n      <td>20000000</td>\n      <td>39143839</td>\n      <td>The Grudge 2</td>\n      <td>Sarah Michelle Gellar|Amber Tamblyn|Edison Che...</td>\n      <td>Takashi Shimizu</td>\n      <td>What Was Once Trapped, Will Now Be Unleashed</td>\n      <td>In Tokyo, a young woman (Tamblyn) is exposed t...</td>\n      <td>102</td>\n      <td>Horror|Thriller</td>\n      <td>Columbia Pictures Corporation|Ghost House Pict...</td>\n      <td>10/13/2006</td>\n      <td>5.3</td>\n      <td>2006</td>\n    </tr>\n  </tbody>\n</table>\n</div>"
     },
     "metadata": {},
     "execution_count": 2
    }
   ],
   "source": [
    "data = pd.read_csv('movie_bd_v5.csv')\n",
    "data.sample(5)"
   ]
  },
  {
   "cell_type": "code",
   "execution_count": 3,
   "metadata": {
    "colab": {},
    "colab_type": "code",
    "id": "CoYUnagMVp-C"
   },
   "outputs": [
    {
     "output_type": "execute_result",
     "data": {
      "text/plain": [
       "             budget       revenue      runtime  vote_average  release_year\n",
       "count  1.889000e+03  1.889000e+03  1889.000000   1889.000000   1889.000000\n",
       "mean   5.431083e+07  1.553653e+08   109.658549      6.140762   2007.860773\n",
       "std    4.858721e+07  2.146698e+08    18.017041      0.764763      4.468841\n",
       "min    5.000000e+06  2.033165e+06    63.000000      3.300000   2000.000000\n",
       "25%    2.000000e+07  3.456058e+07    97.000000      5.600000   2004.000000\n",
       "50%    3.800000e+07  8.361541e+07   107.000000      6.100000   2008.000000\n",
       "75%    7.200000e+07  1.782626e+08   120.000000      6.600000   2012.000000\n",
       "max    3.800000e+08  2.781506e+09   214.000000      8.100000   2015.000000"
      ],
      "text/html": "<div>\n<style scoped>\n    .dataframe tbody tr th:only-of-type {\n        vertical-align: middle;\n    }\n\n    .dataframe tbody tr th {\n        vertical-align: top;\n    }\n\n    .dataframe thead th {\n        text-align: right;\n    }\n</style>\n<table border=\"1\" class=\"dataframe\">\n  <thead>\n    <tr style=\"text-align: right;\">\n      <th></th>\n      <th>budget</th>\n      <th>revenue</th>\n      <th>runtime</th>\n      <th>vote_average</th>\n      <th>release_year</th>\n    </tr>\n  </thead>\n  <tbody>\n    <tr>\n      <th>count</th>\n      <td>1.889000e+03</td>\n      <td>1.889000e+03</td>\n      <td>1889.000000</td>\n      <td>1889.000000</td>\n      <td>1889.000000</td>\n    </tr>\n    <tr>\n      <th>mean</th>\n      <td>5.431083e+07</td>\n      <td>1.553653e+08</td>\n      <td>109.658549</td>\n      <td>6.140762</td>\n      <td>2007.860773</td>\n    </tr>\n    <tr>\n      <th>std</th>\n      <td>4.858721e+07</td>\n      <td>2.146698e+08</td>\n      <td>18.017041</td>\n      <td>0.764763</td>\n      <td>4.468841</td>\n    </tr>\n    <tr>\n      <th>min</th>\n      <td>5.000000e+06</td>\n      <td>2.033165e+06</td>\n      <td>63.000000</td>\n      <td>3.300000</td>\n      <td>2000.000000</td>\n    </tr>\n    <tr>\n      <th>25%</th>\n      <td>2.000000e+07</td>\n      <td>3.456058e+07</td>\n      <td>97.000000</td>\n      <td>5.600000</td>\n      <td>2004.000000</td>\n    </tr>\n    <tr>\n      <th>50%</th>\n      <td>3.800000e+07</td>\n      <td>8.361541e+07</td>\n      <td>107.000000</td>\n      <td>6.100000</td>\n      <td>2008.000000</td>\n    </tr>\n    <tr>\n      <th>75%</th>\n      <td>7.200000e+07</td>\n      <td>1.782626e+08</td>\n      <td>120.000000</td>\n      <td>6.600000</td>\n      <td>2012.000000</td>\n    </tr>\n    <tr>\n      <th>max</th>\n      <td>3.800000e+08</td>\n      <td>2.781506e+09</td>\n      <td>214.000000</td>\n      <td>8.100000</td>\n      <td>2015.000000</td>\n    </tr>\n  </tbody>\n</table>\n</div>"
     },
     "metadata": {},
     "execution_count": 3
    }
   ],
   "source": [
    "data.describe()"
   ]
  },
  {
   "cell_type": "markdown",
   "metadata": {
    "colab_type": "text",
    "id": "DTIt7ezGVp-G"
   },
   "source": [
    "# Предобработка"
   ]
  },
  {
   "cell_type": "code",
   "execution_count": 4,
   "metadata": {
    "colab": {},
    "colab_type": "code",
    "id": "jNb40DwKVp-H"
   },
   "outputs": [],
   "source": [
    "answers = {} # создадим словарь для ответов\n",
    "# считаем прибыль для каждого фльма\n",
    "data['profit'] = data.revenue - data.budget\n",
    "# формируем жанры в виде списка. так легче с ними работать\n",
    "data['genres_list'] = data.genres.str.split('|')\n",
    "data['directors_list'] = data.director.str.split('|')\n",
    "data['actors_list'] = data.cast.str.split('|')\n",
    "data['actors_pairs'] = data.actors_list.apply(lambda x: list(combinations(x, 2)))\n",
    "data['production_companies_list'] = data.production_companies.str.split('|')\n",
    "data[\"release_date\"] = pd.to_datetime(data.release_date)\n",
    "data['release_month'] = data.release_date.dt.month\n",
    "data['original_title_length'] = data.original_title.str.len()\n",
    "data['overview_words_count'] = data.overview.str.split(' ').apply(len)\n",
    "\n",
    "# тут другие ваши предобработки колонок например:\n",
    "\n",
    "#the time given in the dataset is in string format.\n",
    "#So we need to change this in datetime format\n",
    "# ...\n",
    "\n",
    "def max_in_list_values(df, column_name):\n",
    "    max_freq = {\n",
    "        'count': 0,\n",
    "        'genre': ''\n",
    "    }\n",
    "    count_freq = {}\n",
    "    for list_value in df[column_name]:\n",
    "        for list_item in list_value:\n",
    "            count_freq[list_item] = count_freq.get(list_item, 0) + 1\n",
    "            if count_freq[list_item] > max_freq['count']:\n",
    "                max_freq['count'] = count_freq[list_item]\n",
    "                max_freq['genre'] = list_item\n",
    "    \n",
    "    return max_freq"
   ]
  },
  {
   "cell_type": "markdown",
   "metadata": {
    "colab_type": "text",
    "id": "YxZaH-nPVp-L"
   },
   "source": [
    "# 1. У какого фильма из списка самый большой бюджет?"
   ]
  },
  {
   "cell_type": "markdown",
   "metadata": {
    "colab_type": "text",
    "id": "Nd-G5gX6Vp-M"
   },
   "source": [
    "Использовать варианты ответов в коде решения запрещено.    \n",
    "Вы думаете и в жизни у вас будут варианты ответов?)"
   ]
  },
  {
   "cell_type": "code",
   "execution_count": 5,
   "metadata": {
    "colab": {},
    "colab_type": "code",
    "id": "uVnXAY5RVp-O"
   },
   "outputs": [],
   "source": [
    "# в словарь вставляем номер вопроса и ваш ответ на него\n",
    "# Пример: \n",
    "answers['1'] = '2. Spider-Man 3 (tt0413300)'\n",
    "# запишите свой вариант ответа\n",
    "# +\n",
    "answers['1'] = '5. Pirates of the Caribbean: On Stranger Tides (tt1298650)'\n",
    "# если ответили верно, можете добавить комментарий со значком \"+\""
   ]
  },
  {
   "cell_type": "code",
   "execution_count": 6,
   "metadata": {
    "colab": {},
    "colab_type": "code",
    "id": "dZwb3m28Vp-S"
   },
   "outputs": [
    {
     "output_type": "execute_result",
     "data": {
      "text/plain": [
       "       imdb_id     budget     revenue  \\\n",
       "723  tt1298650  380000000  1021683000   \n",
       "\n",
       "                                  original_title  \\\n",
       "723  Pirates of the Caribbean: On Stranger Tides   \n",
       "\n",
       "                                                  cast      director  \\\n",
       "723  Johnny Depp|PenÃ©lope Cruz|Geoffrey Rush|Ian M...  Rob Marshall   \n",
       "\n",
       "                         tagline  \\\n",
       "723  Live Forever Or Die Trying.   \n",
       "\n",
       "                                              overview  runtime  \\\n",
       "723  Captain Jack Sparrow crosses paths with a woma...      136   \n",
       "\n",
       "                       genres  ... release_year     profit  \\\n",
       "723  Adventure|Action|Fantasy  ...         2011  641683000   \n",
       "\n",
       "                      genres_list  directors_list  \\\n",
       "723  [Adventure, Action, Fantasy]  [Rob Marshall]   \n",
       "\n",
       "                                           actors_list  \\\n",
       "723  [Johnny Depp, PenÃ©lope Cruz, Geoffrey Rush, I...   \n",
       "\n",
       "                                          actors_pairs  \\\n",
       "723  [(Johnny Depp, PenÃ©lope Cruz), (Johnny Depp, ...   \n",
       "\n",
       "                             production_companies_list release_month  \\\n",
       "723  [Walt Disney Pictures, Jerry Bruckheimer Films...             5   \n",
       "\n",
       "    original_title_length overview_words_count  \n",
       "723                    43                   75  \n",
       "\n",
       "[1 rows x 23 columns]"
      ],
      "text/html": "<div>\n<style scoped>\n    .dataframe tbody tr th:only-of-type {\n        vertical-align: middle;\n    }\n\n    .dataframe tbody tr th {\n        vertical-align: top;\n    }\n\n    .dataframe thead th {\n        text-align: right;\n    }\n</style>\n<table border=\"1\" class=\"dataframe\">\n  <thead>\n    <tr style=\"text-align: right;\">\n      <th></th>\n      <th>imdb_id</th>\n      <th>budget</th>\n      <th>revenue</th>\n      <th>original_title</th>\n      <th>cast</th>\n      <th>director</th>\n      <th>tagline</th>\n      <th>overview</th>\n      <th>runtime</th>\n      <th>genres</th>\n      <th>...</th>\n      <th>release_year</th>\n      <th>profit</th>\n      <th>genres_list</th>\n      <th>directors_list</th>\n      <th>actors_list</th>\n      <th>actors_pairs</th>\n      <th>production_companies_list</th>\n      <th>release_month</th>\n      <th>original_title_length</th>\n      <th>overview_words_count</th>\n    </tr>\n  </thead>\n  <tbody>\n    <tr>\n      <th>723</th>\n      <td>tt1298650</td>\n      <td>380000000</td>\n      <td>1021683000</td>\n      <td>Pirates of the Caribbean: On Stranger Tides</td>\n      <td>Johnny Depp|PenÃ©lope Cruz|Geoffrey Rush|Ian M...</td>\n      <td>Rob Marshall</td>\n      <td>Live Forever Or Die Trying.</td>\n      <td>Captain Jack Sparrow crosses paths with a woma...</td>\n      <td>136</td>\n      <td>Adventure|Action|Fantasy</td>\n      <td>...</td>\n      <td>2011</td>\n      <td>641683000</td>\n      <td>[Adventure, Action, Fantasy]</td>\n      <td>[Rob Marshall]</td>\n      <td>[Johnny Depp, PenÃ©lope Cruz, Geoffrey Rush, I...</td>\n      <td>[(Johnny Depp, PenÃ©lope Cruz), (Johnny Depp, ...</td>\n      <td>[Walt Disney Pictures, Jerry Bruckheimer Films...</td>\n      <td>5</td>\n      <td>43</td>\n      <td>75</td>\n    </tr>\n  </tbody>\n</table>\n<p>1 rows × 23 columns</p>\n</div>"
     },
     "metadata": {},
     "execution_count": 6
    }
   ],
   "source": [
    "# тут пишем ваш код для решения данного вопроса:\n",
    "data[data.budget == data.budget.max()]"
   ]
  },
  {
   "cell_type": "markdown",
   "metadata": {
    "colab_type": "text",
    "id": "K7L3nbRXVp-X"
   },
   "source": [
    "ВАРИАНТ 2"
   ]
  },
  {
   "cell_type": "code",
   "execution_count": 7,
   "metadata": {
    "colab": {},
    "colab_type": "code",
    "id": "OGaoQI7rVp-X"
   },
   "outputs": [
    {
     "output_type": "execute_result",
     "data": {
      "text/plain": [
       "       imdb_id     budget     revenue  \\\n",
       "723  tt1298650  380000000  1021683000   \n",
       "\n",
       "                                  original_title  \\\n",
       "723  Pirates of the Caribbean: On Stranger Tides   \n",
       "\n",
       "                                                  cast      director  \\\n",
       "723  Johnny Depp|PenÃ©lope Cruz|Geoffrey Rush|Ian M...  Rob Marshall   \n",
       "\n",
       "                         tagline  \\\n",
       "723  Live Forever Or Die Trying.   \n",
       "\n",
       "                                              overview  runtime  \\\n",
       "723  Captain Jack Sparrow crosses paths with a woma...      136   \n",
       "\n",
       "                       genres  ... release_year     profit  \\\n",
       "723  Adventure|Action|Fantasy  ...         2011  641683000   \n",
       "\n",
       "                      genres_list  directors_list  \\\n",
       "723  [Adventure, Action, Fantasy]  [Rob Marshall]   \n",
       "\n",
       "                                           actors_list  \\\n",
       "723  [Johnny Depp, PenÃ©lope Cruz, Geoffrey Rush, I...   \n",
       "\n",
       "                                          actors_pairs  \\\n",
       "723  [(Johnny Depp, PenÃ©lope Cruz), (Johnny Depp, ...   \n",
       "\n",
       "                             production_companies_list release_month  \\\n",
       "723  [Walt Disney Pictures, Jerry Bruckheimer Films...             5   \n",
       "\n",
       "    original_title_length overview_words_count  \n",
       "723                    43                   75  \n",
       "\n",
       "[1 rows x 23 columns]"
      ],
      "text/html": "<div>\n<style scoped>\n    .dataframe tbody tr th:only-of-type {\n        vertical-align: middle;\n    }\n\n    .dataframe tbody tr th {\n        vertical-align: top;\n    }\n\n    .dataframe thead th {\n        text-align: right;\n    }\n</style>\n<table border=\"1\" class=\"dataframe\">\n  <thead>\n    <tr style=\"text-align: right;\">\n      <th></th>\n      <th>imdb_id</th>\n      <th>budget</th>\n      <th>revenue</th>\n      <th>original_title</th>\n      <th>cast</th>\n      <th>director</th>\n      <th>tagline</th>\n      <th>overview</th>\n      <th>runtime</th>\n      <th>genres</th>\n      <th>...</th>\n      <th>release_year</th>\n      <th>profit</th>\n      <th>genres_list</th>\n      <th>directors_list</th>\n      <th>actors_list</th>\n      <th>actors_pairs</th>\n      <th>production_companies_list</th>\n      <th>release_month</th>\n      <th>original_title_length</th>\n      <th>overview_words_count</th>\n    </tr>\n  </thead>\n  <tbody>\n    <tr>\n      <th>723</th>\n      <td>tt1298650</td>\n      <td>380000000</td>\n      <td>1021683000</td>\n      <td>Pirates of the Caribbean: On Stranger Tides</td>\n      <td>Johnny Depp|PenÃ©lope Cruz|Geoffrey Rush|Ian M...</td>\n      <td>Rob Marshall</td>\n      <td>Live Forever Or Die Trying.</td>\n      <td>Captain Jack Sparrow crosses paths with a woma...</td>\n      <td>136</td>\n      <td>Adventure|Action|Fantasy</td>\n      <td>...</td>\n      <td>2011</td>\n      <td>641683000</td>\n      <td>[Adventure, Action, Fantasy]</td>\n      <td>[Rob Marshall]</td>\n      <td>[Johnny Depp, PenÃ©lope Cruz, Geoffrey Rush, I...</td>\n      <td>[(Johnny Depp, PenÃ©lope Cruz), (Johnny Depp, ...</td>\n      <td>[Walt Disney Pictures, Jerry Bruckheimer Films...</td>\n      <td>5</td>\n      <td>43</td>\n      <td>75</td>\n    </tr>\n  </tbody>\n</table>\n<p>1 rows × 23 columns</p>\n</div>"
     },
     "metadata": {},
     "execution_count": 7
    }
   ],
   "source": [
    "# можно добавлять разные варианты решения\n",
    "data.sort_values(by=['budget'], ascending=False).head(1)"
   ]
  },
  {
   "cell_type": "markdown",
   "metadata": {
    "colab_type": "text",
    "id": "FNRbbI3vVp-c"
   },
   "source": [
    "# 2. Какой из фильмов самый длительный (в минутах)?"
   ]
  },
  {
   "cell_type": "code",
   "execution_count": 8,
   "metadata": {
    "colab": {},
    "colab_type": "code",
    "id": "vHAoEXNTVp-d"
   },
   "outputs": [],
   "source": [
    "# думаю логику работы с этим словарем вы уже поняли, \n",
    "# по этому не буду больше его дублировать\n",
    "# +\n",
    "answers['2'] = '2. Gods and Generals (tt0279111)'"
   ]
  },
  {
   "cell_type": "code",
   "execution_count": 9,
   "metadata": {
    "colab": {},
    "colab_type": "code",
    "id": "ot-VX2XrVp-g"
   },
   "outputs": [
    {
     "output_type": "execute_result",
     "data": {
      "text/plain": [
       "        imdb_id    budget   revenue     original_title  \\\n",
       "1157  tt0279111  56000000  12923936  Gods and Generals   \n",
       "\n",
       "                                                   cast           director  \\\n",
       "1157  Stephen Lang|Jeff Daniels|Robert Duvall|Kevin ...  Ronald F. Maxwell   \n",
       "\n",
       "                                  tagline  \\\n",
       "1157  The nations heart was touched by...   \n",
       "\n",
       "                                               overview  runtime  \\\n",
       "1157  The film centers mostly around the personal an...      214   \n",
       "\n",
       "                 genres  ... release_year    profit            genres_list  \\\n",
       "1157  Drama|History|War  ...         2003 -43076064  [Drama, History, War]   \n",
       "\n",
       "           directors_list                                        actors_list  \\\n",
       "1157  [Ronald F. Maxwell]  [Stephen Lang, Jeff Daniels, Robert Duvall, Ke...   \n",
       "\n",
       "                                           actors_pairs  \\\n",
       "1157  [(Stephen Lang, Jeff Daniels), (Stephen Lang, ...   \n",
       "\n",
       "                  production_companies_list release_month  \\\n",
       "1157  [Turner Pictures, Antietam Filmworks]             2   \n",
       "\n",
       "     original_title_length overview_words_count  \n",
       "1157                    17                   48  \n",
       "\n",
       "[1 rows x 23 columns]"
      ],
      "text/html": "<div>\n<style scoped>\n    .dataframe tbody tr th:only-of-type {\n        vertical-align: middle;\n    }\n\n    .dataframe tbody tr th {\n        vertical-align: top;\n    }\n\n    .dataframe thead th {\n        text-align: right;\n    }\n</style>\n<table border=\"1\" class=\"dataframe\">\n  <thead>\n    <tr style=\"text-align: right;\">\n      <th></th>\n      <th>imdb_id</th>\n      <th>budget</th>\n      <th>revenue</th>\n      <th>original_title</th>\n      <th>cast</th>\n      <th>director</th>\n      <th>tagline</th>\n      <th>overview</th>\n      <th>runtime</th>\n      <th>genres</th>\n      <th>...</th>\n      <th>release_year</th>\n      <th>profit</th>\n      <th>genres_list</th>\n      <th>directors_list</th>\n      <th>actors_list</th>\n      <th>actors_pairs</th>\n      <th>production_companies_list</th>\n      <th>release_month</th>\n      <th>original_title_length</th>\n      <th>overview_words_count</th>\n    </tr>\n  </thead>\n  <tbody>\n    <tr>\n      <th>1157</th>\n      <td>tt0279111</td>\n      <td>56000000</td>\n      <td>12923936</td>\n      <td>Gods and Generals</td>\n      <td>Stephen Lang|Jeff Daniels|Robert Duvall|Kevin ...</td>\n      <td>Ronald F. Maxwell</td>\n      <td>The nations heart was touched by...</td>\n      <td>The film centers mostly around the personal an...</td>\n      <td>214</td>\n      <td>Drama|History|War</td>\n      <td>...</td>\n      <td>2003</td>\n      <td>-43076064</td>\n      <td>[Drama, History, War]</td>\n      <td>[Ronald F. Maxwell]</td>\n      <td>[Stephen Lang, Jeff Daniels, Robert Duvall, Ke...</td>\n      <td>[(Stephen Lang, Jeff Daniels), (Stephen Lang, ...</td>\n      <td>[Turner Pictures, Antietam Filmworks]</td>\n      <td>2</td>\n      <td>17</td>\n      <td>48</td>\n    </tr>\n  </tbody>\n</table>\n<p>1 rows × 23 columns</p>\n</div>"
     },
     "metadata": {},
     "execution_count": 9
    }
   ],
   "source": [
    "data[data.runtime == data.runtime.max()]"
   ]
  },
  {
   "source": [
    "ВАРИАНТ 2"
   ],
   "cell_type": "markdown",
   "metadata": {}
  },
  {
   "cell_type": "code",
   "execution_count": 10,
   "metadata": {},
   "outputs": [
    {
     "output_type": "execute_result",
     "data": {
      "text/plain": [
       "        imdb_id    budget   revenue     original_title  \\\n",
       "1157  tt0279111  56000000  12923936  Gods and Generals   \n",
       "\n",
       "                                                   cast           director  \\\n",
       "1157  Stephen Lang|Jeff Daniels|Robert Duvall|Kevin ...  Ronald F. Maxwell   \n",
       "\n",
       "                                  tagline  \\\n",
       "1157  The nations heart was touched by...   \n",
       "\n",
       "                                               overview  runtime  \\\n",
       "1157  The film centers mostly around the personal an...      214   \n",
       "\n",
       "                 genres  ... release_year    profit            genres_list  \\\n",
       "1157  Drama|History|War  ...         2003 -43076064  [Drama, History, War]   \n",
       "\n",
       "           directors_list                                        actors_list  \\\n",
       "1157  [Ronald F. Maxwell]  [Stephen Lang, Jeff Daniels, Robert Duvall, Ke...   \n",
       "\n",
       "                                           actors_pairs  \\\n",
       "1157  [(Stephen Lang, Jeff Daniels), (Stephen Lang, ...   \n",
       "\n",
       "                  production_companies_list release_month  \\\n",
       "1157  [Turner Pictures, Antietam Filmworks]             2   \n",
       "\n",
       "     original_title_length overview_words_count  \n",
       "1157                    17                   48  \n",
       "\n",
       "[1 rows x 23 columns]"
      ],
      "text/html": "<div>\n<style scoped>\n    .dataframe tbody tr th:only-of-type {\n        vertical-align: middle;\n    }\n\n    .dataframe tbody tr th {\n        vertical-align: top;\n    }\n\n    .dataframe thead th {\n        text-align: right;\n    }\n</style>\n<table border=\"1\" class=\"dataframe\">\n  <thead>\n    <tr style=\"text-align: right;\">\n      <th></th>\n      <th>imdb_id</th>\n      <th>budget</th>\n      <th>revenue</th>\n      <th>original_title</th>\n      <th>cast</th>\n      <th>director</th>\n      <th>tagline</th>\n      <th>overview</th>\n      <th>runtime</th>\n      <th>genres</th>\n      <th>...</th>\n      <th>release_year</th>\n      <th>profit</th>\n      <th>genres_list</th>\n      <th>directors_list</th>\n      <th>actors_list</th>\n      <th>actors_pairs</th>\n      <th>production_companies_list</th>\n      <th>release_month</th>\n      <th>original_title_length</th>\n      <th>overview_words_count</th>\n    </tr>\n  </thead>\n  <tbody>\n    <tr>\n      <th>1157</th>\n      <td>tt0279111</td>\n      <td>56000000</td>\n      <td>12923936</td>\n      <td>Gods and Generals</td>\n      <td>Stephen Lang|Jeff Daniels|Robert Duvall|Kevin ...</td>\n      <td>Ronald F. Maxwell</td>\n      <td>The nations heart was touched by...</td>\n      <td>The film centers mostly around the personal an...</td>\n      <td>214</td>\n      <td>Drama|History|War</td>\n      <td>...</td>\n      <td>2003</td>\n      <td>-43076064</td>\n      <td>[Drama, History, War]</td>\n      <td>[Ronald F. Maxwell]</td>\n      <td>[Stephen Lang, Jeff Daniels, Robert Duvall, Ke...</td>\n      <td>[(Stephen Lang, Jeff Daniels), (Stephen Lang, ...</td>\n      <td>[Turner Pictures, Antietam Filmworks]</td>\n      <td>2</td>\n      <td>17</td>\n      <td>48</td>\n    </tr>\n  </tbody>\n</table>\n<p>1 rows × 23 columns</p>\n</div>"
     },
     "metadata": {},
     "execution_count": 10
    }
   ],
   "source": [
    "data.sort_values(by=['runtime'], ascending=False).head(1)"
   ]
  },
  {
   "cell_type": "markdown",
   "metadata": {
    "colab_type": "text",
    "id": "bapLlpW8Vp-k"
   },
   "source": [
    "# 3. Какой из фильмов самый короткий (в минутах)?\n",
    "\n",
    "\n",
    "\n"
   ]
  },
  {
   "cell_type": "code",
   "execution_count": 11,
   "metadata": {
    "colab": {},
    "colab_type": "code",
    "id": "YBxaSHuAVp-l"
   },
   "outputs": [
    {
     "output_type": "execute_result",
     "data": {
      "text/plain": [
       "       imdb_id    budget   revenue   original_title  \\\n",
       "768  tt1449283  30000000  14460000  Winnie the Pooh   \n",
       "\n",
       "                                                  cast  \\\n",
       "768  Jim Cummings|Travis Oates|Jim Cummings|Bud Luc...   \n",
       "\n",
       "                      director   tagline  \\\n",
       "768  Stephen Anderson|Don Hall  Oh Pooh.   \n",
       "\n",
       "                                              overview  runtime  \\\n",
       "768  During an ordinary day in Hundred Acre Wood, W...       63   \n",
       "\n",
       "               genres  ... release_year    profit          genres_list  \\\n",
       "768  Animation|Family  ...         2011 -15540000  [Animation, Family]   \n",
       "\n",
       "                   directors_list  \\\n",
       "768  [Stephen Anderson, Don Hall]   \n",
       "\n",
       "                                           actors_list  \\\n",
       "768  [Jim Cummings, Travis Oates, Jim Cummings, Bud...   \n",
       "\n",
       "                                          actors_pairs  \\\n",
       "768  [(Jim Cummings, Travis Oates), (Jim Cummings, ...   \n",
       "\n",
       "                             production_companies_list release_month  \\\n",
       "768  [Walt Disney Pictures, Walt Disney Animation S...             4   \n",
       "\n",
       "    original_title_length overview_words_count  \n",
       "768                    15                   52  \n",
       "\n",
       "[1 rows x 23 columns]"
      ],
      "text/html": "<div>\n<style scoped>\n    .dataframe tbody tr th:only-of-type {\n        vertical-align: middle;\n    }\n\n    .dataframe tbody tr th {\n        vertical-align: top;\n    }\n\n    .dataframe thead th {\n        text-align: right;\n    }\n</style>\n<table border=\"1\" class=\"dataframe\">\n  <thead>\n    <tr style=\"text-align: right;\">\n      <th></th>\n      <th>imdb_id</th>\n      <th>budget</th>\n      <th>revenue</th>\n      <th>original_title</th>\n      <th>cast</th>\n      <th>director</th>\n      <th>tagline</th>\n      <th>overview</th>\n      <th>runtime</th>\n      <th>genres</th>\n      <th>...</th>\n      <th>release_year</th>\n      <th>profit</th>\n      <th>genres_list</th>\n      <th>directors_list</th>\n      <th>actors_list</th>\n      <th>actors_pairs</th>\n      <th>production_companies_list</th>\n      <th>release_month</th>\n      <th>original_title_length</th>\n      <th>overview_words_count</th>\n    </tr>\n  </thead>\n  <tbody>\n    <tr>\n      <th>768</th>\n      <td>tt1449283</td>\n      <td>30000000</td>\n      <td>14460000</td>\n      <td>Winnie the Pooh</td>\n      <td>Jim Cummings|Travis Oates|Jim Cummings|Bud Luc...</td>\n      <td>Stephen Anderson|Don Hall</td>\n      <td>Oh Pooh.</td>\n      <td>During an ordinary day in Hundred Acre Wood, W...</td>\n      <td>63</td>\n      <td>Animation|Family</td>\n      <td>...</td>\n      <td>2011</td>\n      <td>-15540000</td>\n      <td>[Animation, Family]</td>\n      <td>[Stephen Anderson, Don Hall]</td>\n      <td>[Jim Cummings, Travis Oates, Jim Cummings, Bud...</td>\n      <td>[(Jim Cummings, Travis Oates), (Jim Cummings, ...</td>\n      <td>[Walt Disney Pictures, Walt Disney Animation S...</td>\n      <td>4</td>\n      <td>15</td>\n      <td>52</td>\n    </tr>\n  </tbody>\n</table>\n<p>1 rows × 23 columns</p>\n</div>"
     },
     "metadata": {},
     "execution_count": 11
    }
   ],
   "source": [
    "# +\n",
    "answers['3'] = '3. Winnie the Pooh (tt1449283)'\n",
    "data[data.runtime == data.runtime.min()]"
   ]
  },
  {
   "source": [
    "ВАРИАНТ 2"
   ],
   "cell_type": "markdown",
   "metadata": {}
  },
  {
   "cell_type": "code",
   "execution_count": 12,
   "metadata": {},
   "outputs": [
    {
     "output_type": "execute_result",
     "data": {
      "text/plain": [
       "       imdb_id    budget   revenue   original_title  \\\n",
       "768  tt1449283  30000000  14460000  Winnie the Pooh   \n",
       "\n",
       "                                                  cast  \\\n",
       "768  Jim Cummings|Travis Oates|Jim Cummings|Bud Luc...   \n",
       "\n",
       "                      director   tagline  \\\n",
       "768  Stephen Anderson|Don Hall  Oh Pooh.   \n",
       "\n",
       "                                              overview  runtime  \\\n",
       "768  During an ordinary day in Hundred Acre Wood, W...       63   \n",
       "\n",
       "               genres  ... release_year    profit          genres_list  \\\n",
       "768  Animation|Family  ...         2011 -15540000  [Animation, Family]   \n",
       "\n",
       "                   directors_list  \\\n",
       "768  [Stephen Anderson, Don Hall]   \n",
       "\n",
       "                                           actors_list  \\\n",
       "768  [Jim Cummings, Travis Oates, Jim Cummings, Bud...   \n",
       "\n",
       "                                          actors_pairs  \\\n",
       "768  [(Jim Cummings, Travis Oates), (Jim Cummings, ...   \n",
       "\n",
       "                             production_companies_list release_month  \\\n",
       "768  [Walt Disney Pictures, Walt Disney Animation S...             4   \n",
       "\n",
       "    original_title_length overview_words_count  \n",
       "768                    15                   52  \n",
       "\n",
       "[1 rows x 23 columns]"
      ],
      "text/html": "<div>\n<style scoped>\n    .dataframe tbody tr th:only-of-type {\n        vertical-align: middle;\n    }\n\n    .dataframe tbody tr th {\n        vertical-align: top;\n    }\n\n    .dataframe thead th {\n        text-align: right;\n    }\n</style>\n<table border=\"1\" class=\"dataframe\">\n  <thead>\n    <tr style=\"text-align: right;\">\n      <th></th>\n      <th>imdb_id</th>\n      <th>budget</th>\n      <th>revenue</th>\n      <th>original_title</th>\n      <th>cast</th>\n      <th>director</th>\n      <th>tagline</th>\n      <th>overview</th>\n      <th>runtime</th>\n      <th>genres</th>\n      <th>...</th>\n      <th>release_year</th>\n      <th>profit</th>\n      <th>genres_list</th>\n      <th>directors_list</th>\n      <th>actors_list</th>\n      <th>actors_pairs</th>\n      <th>production_companies_list</th>\n      <th>release_month</th>\n      <th>original_title_length</th>\n      <th>overview_words_count</th>\n    </tr>\n  </thead>\n  <tbody>\n    <tr>\n      <th>768</th>\n      <td>tt1449283</td>\n      <td>30000000</td>\n      <td>14460000</td>\n      <td>Winnie the Pooh</td>\n      <td>Jim Cummings|Travis Oates|Jim Cummings|Bud Luc...</td>\n      <td>Stephen Anderson|Don Hall</td>\n      <td>Oh Pooh.</td>\n      <td>During an ordinary day in Hundred Acre Wood, W...</td>\n      <td>63</td>\n      <td>Animation|Family</td>\n      <td>...</td>\n      <td>2011</td>\n      <td>-15540000</td>\n      <td>[Animation, Family]</td>\n      <td>[Stephen Anderson, Don Hall]</td>\n      <td>[Jim Cummings, Travis Oates, Jim Cummings, Bud...</td>\n      <td>[(Jim Cummings, Travis Oates), (Jim Cummings, ...</td>\n      <td>[Walt Disney Pictures, Walt Disney Animation S...</td>\n      <td>4</td>\n      <td>15</td>\n      <td>52</td>\n    </tr>\n  </tbody>\n</table>\n<p>1 rows × 23 columns</p>\n</div>"
     },
     "metadata": {},
     "execution_count": 12
    }
   ],
   "source": [
    "data.sort_values(by=['runtime'], ascending=True).head(1)"
   ]
  },
  {
   "cell_type": "markdown",
   "metadata": {
    "colab_type": "text",
    "id": "TfQbxbfNVp-p"
   },
   "source": [
    "# 4. Какова средняя длительность фильмов?\n"
   ]
  },
  {
   "cell_type": "code",
   "execution_count": 13,
   "metadata": {
    "colab": {},
    "colab_type": "code",
    "id": "5K6dKZYVVp-q"
   },
   "outputs": [
    {
     "output_type": "execute_result",
     "data": {
      "text/plain": [
       "110"
      ]
     },
     "metadata": {},
     "execution_count": 13
    }
   ],
   "source": [
    "# +\n",
    "answers['4'] = '110'\n",
    "round(data.runtime.mean())"
   ]
  },
  {
   "source": [
    "ВАРИАНТ 2"
   ],
   "cell_type": "markdown",
   "metadata": {}
  },
  {
   "cell_type": "code",
   "execution_count": 14,
   "metadata": {},
   "outputs": [
    {
     "output_type": "execute_result",
     "data": {
      "text/plain": [
       "110"
      ]
     },
     "metadata": {},
     "execution_count": 14
    }
   ],
   "source": [
    "round(data.runtime.describe()['mean'])"
   ]
  },
  {
   "cell_type": "markdown",
   "metadata": {
    "colab_type": "text",
    "id": "r5TvbnT_Vp-u"
   },
   "source": [
    "# 5. Каково медианное значение длительности фильмов? "
   ]
  },
  {
   "cell_type": "code",
   "execution_count": 15,
   "metadata": {
    "colab": {},
    "colab_type": "code",
    "id": "iBROplKnVp-v"
   },
   "outputs": [
    {
     "output_type": "execute_result",
     "data": {
      "text/plain": [
       "107"
      ]
     },
     "metadata": {},
     "execution_count": 15
    }
   ],
   "source": [
    "# +\n",
    "answers['5'] = '107'\n",
    "round(data.runtime.median())"
   ]
  },
  {
   "cell_type": "markdown",
   "metadata": {
    "colab_type": "text",
    "id": "39P-deDSVp-y"
   },
   "source": [
    "# 6. Какой самый прибыльный фильм?\n",
    "#### Внимание! Здесь и далее под «прибылью» или «убытками» понимается разность между сборами и бюджетом фильма. (прибыль = сборы - бюджет) в нашем датасете это будет (profit = revenue - budget) "
   ]
  },
  {
   "cell_type": "code",
   "execution_count": 16,
   "metadata": {
    "colab": {},
    "colab_type": "code",
    "id": "UYZh4T9WVp-y"
   },
   "outputs": [
    {
     "output_type": "execute_result",
     "data": {
      "text/plain": [
       "       imdb_id     budget     revenue original_title  \\\n",
       "239  tt0499549  237000000  2781505847         Avatar   \n",
       "\n",
       "                                                  cast       director  \\\n",
       "239  Sam Worthington|Zoe Saldana|Sigourney Weaver|S...  James Cameron   \n",
       "\n",
       "                         tagline  \\\n",
       "239  Enter the World of Pandora.   \n",
       "\n",
       "                                              overview  runtime  \\\n",
       "239  In the 22nd century, a paraplegic Marine is di...      162   \n",
       "\n",
       "                                       genres  ... release_year      profit  \\\n",
       "239  Action|Adventure|Fantasy|Science Fiction  ...         2009  2544505847   \n",
       "\n",
       "                                       genres_list   directors_list  \\\n",
       "239  [Action, Adventure, Fantasy, Science Fiction]  [James Cameron]   \n",
       "\n",
       "                                           actors_list  \\\n",
       "239  [Sam Worthington, Zoe Saldana, Sigourney Weave...   \n",
       "\n",
       "                                          actors_pairs  \\\n",
       "239  [(Sam Worthington, Zoe Saldana), (Sam Worthing...   \n",
       "\n",
       "                             production_companies_list release_month  \\\n",
       "239  [Ingenious Film Partners, Twentieth Century Fo...            12   \n",
       "\n",
       "    original_title_length overview_words_count  \n",
       "239                     6                   28  \n",
       "\n",
       "[1 rows x 23 columns]"
      ],
      "text/html": "<div>\n<style scoped>\n    .dataframe tbody tr th:only-of-type {\n        vertical-align: middle;\n    }\n\n    .dataframe tbody tr th {\n        vertical-align: top;\n    }\n\n    .dataframe thead th {\n        text-align: right;\n    }\n</style>\n<table border=\"1\" class=\"dataframe\">\n  <thead>\n    <tr style=\"text-align: right;\">\n      <th></th>\n      <th>imdb_id</th>\n      <th>budget</th>\n      <th>revenue</th>\n      <th>original_title</th>\n      <th>cast</th>\n      <th>director</th>\n      <th>tagline</th>\n      <th>overview</th>\n      <th>runtime</th>\n      <th>genres</th>\n      <th>...</th>\n      <th>release_year</th>\n      <th>profit</th>\n      <th>genres_list</th>\n      <th>directors_list</th>\n      <th>actors_list</th>\n      <th>actors_pairs</th>\n      <th>production_companies_list</th>\n      <th>release_month</th>\n      <th>original_title_length</th>\n      <th>overview_words_count</th>\n    </tr>\n  </thead>\n  <tbody>\n    <tr>\n      <th>239</th>\n      <td>tt0499549</td>\n      <td>237000000</td>\n      <td>2781505847</td>\n      <td>Avatar</td>\n      <td>Sam Worthington|Zoe Saldana|Sigourney Weaver|S...</td>\n      <td>James Cameron</td>\n      <td>Enter the World of Pandora.</td>\n      <td>In the 22nd century, a paraplegic Marine is di...</td>\n      <td>162</td>\n      <td>Action|Adventure|Fantasy|Science Fiction</td>\n      <td>...</td>\n      <td>2009</td>\n      <td>2544505847</td>\n      <td>[Action, Adventure, Fantasy, Science Fiction]</td>\n      <td>[James Cameron]</td>\n      <td>[Sam Worthington, Zoe Saldana, Sigourney Weave...</td>\n      <td>[(Sam Worthington, Zoe Saldana), (Sam Worthing...</td>\n      <td>[Ingenious Film Partners, Twentieth Century Fo...</td>\n      <td>12</td>\n      <td>6</td>\n      <td>28</td>\n    </tr>\n  </tbody>\n</table>\n<p>1 rows × 23 columns</p>\n</div>"
     },
     "metadata": {},
     "execution_count": 16
    }
   ],
   "source": [
    "# лучше код получения столбца profit вынести в Предобработку что в начале\n",
    "# +\n",
    "answers['6'] = '5. Avatar (tt0499549)'\n",
    "data[data.profit == data.profit.max()]"
   ]
  },
  {
   "source": [
    "ВАРИАНТ 2"
   ],
   "cell_type": "markdown",
   "metadata": {}
  },
  {
   "cell_type": "code",
   "execution_count": 17,
   "metadata": {},
   "outputs": [
    {
     "output_type": "execute_result",
     "data": {
      "text/plain": [
       "       imdb_id     budget     revenue original_title  \\\n",
       "239  tt0499549  237000000  2781505847         Avatar   \n",
       "\n",
       "                                                  cast       director  \\\n",
       "239  Sam Worthington|Zoe Saldana|Sigourney Weaver|S...  James Cameron   \n",
       "\n",
       "                         tagline  \\\n",
       "239  Enter the World of Pandora.   \n",
       "\n",
       "                                              overview  runtime  \\\n",
       "239  In the 22nd century, a paraplegic Marine is di...      162   \n",
       "\n",
       "                                       genres  ... release_year      profit  \\\n",
       "239  Action|Adventure|Fantasy|Science Fiction  ...         2009  2544505847   \n",
       "\n",
       "                                       genres_list   directors_list  \\\n",
       "239  [Action, Adventure, Fantasy, Science Fiction]  [James Cameron]   \n",
       "\n",
       "                                           actors_list  \\\n",
       "239  [Sam Worthington, Zoe Saldana, Sigourney Weave...   \n",
       "\n",
       "                                          actors_pairs  \\\n",
       "239  [(Sam Worthington, Zoe Saldana), (Sam Worthing...   \n",
       "\n",
       "                             production_companies_list release_month  \\\n",
       "239  [Ingenious Film Partners, Twentieth Century Fo...            12   \n",
       "\n",
       "    original_title_length overview_words_count  \n",
       "239                     6                   28  \n",
       "\n",
       "[1 rows x 23 columns]"
      ],
      "text/html": "<div>\n<style scoped>\n    .dataframe tbody tr th:only-of-type {\n        vertical-align: middle;\n    }\n\n    .dataframe tbody tr th {\n        vertical-align: top;\n    }\n\n    .dataframe thead th {\n        text-align: right;\n    }\n</style>\n<table border=\"1\" class=\"dataframe\">\n  <thead>\n    <tr style=\"text-align: right;\">\n      <th></th>\n      <th>imdb_id</th>\n      <th>budget</th>\n      <th>revenue</th>\n      <th>original_title</th>\n      <th>cast</th>\n      <th>director</th>\n      <th>tagline</th>\n      <th>overview</th>\n      <th>runtime</th>\n      <th>genres</th>\n      <th>...</th>\n      <th>release_year</th>\n      <th>profit</th>\n      <th>genres_list</th>\n      <th>directors_list</th>\n      <th>actors_list</th>\n      <th>actors_pairs</th>\n      <th>production_companies_list</th>\n      <th>release_month</th>\n      <th>original_title_length</th>\n      <th>overview_words_count</th>\n    </tr>\n  </thead>\n  <tbody>\n    <tr>\n      <th>239</th>\n      <td>tt0499549</td>\n      <td>237000000</td>\n      <td>2781505847</td>\n      <td>Avatar</td>\n      <td>Sam Worthington|Zoe Saldana|Sigourney Weaver|S...</td>\n      <td>James Cameron</td>\n      <td>Enter the World of Pandora.</td>\n      <td>In the 22nd century, a paraplegic Marine is di...</td>\n      <td>162</td>\n      <td>Action|Adventure|Fantasy|Science Fiction</td>\n      <td>...</td>\n      <td>2009</td>\n      <td>2544505847</td>\n      <td>[Action, Adventure, Fantasy, Science Fiction]</td>\n      <td>[James Cameron]</td>\n      <td>[Sam Worthington, Zoe Saldana, Sigourney Weave...</td>\n      <td>[(Sam Worthington, Zoe Saldana), (Sam Worthing...</td>\n      <td>[Ingenious Film Partners, Twentieth Century Fo...</td>\n      <td>12</td>\n      <td>6</td>\n      <td>28</td>\n    </tr>\n  </tbody>\n</table>\n<p>1 rows × 23 columns</p>\n</div>"
     },
     "metadata": {},
     "execution_count": 17
    }
   ],
   "source": [
    "data.sort_values(by=['profit'], ascending=False).head(1)"
   ]
  },
  {
   "cell_type": "markdown",
   "metadata": {
    "colab_type": "text",
    "id": "M99JmIX4Vp-2"
   },
   "source": [
    "# 7. Какой фильм самый убыточный? "
   ]
  },
  {
   "cell_type": "code",
   "execution_count": 18,
   "metadata": {
    "colab": {},
    "colab_type": "code",
    "id": "w-D2m4XPVp-3"
   },
   "outputs": [
    {
     "output_type": "execute_result",
     "data": {
      "text/plain": [
       "        imdb_id     budget   revenue   original_title  \\\n",
       "1245  tt1210819  255000000  89289910  The Lone Ranger   \n",
       "\n",
       "                                                   cast        director  \\\n",
       "1245  Johnny Depp|Armie Hammer|William Fichtner|Hele...  Gore Verbinski   \n",
       "\n",
       "                      tagline  \\\n",
       "1245  Never Take Off the Mask   \n",
       "\n",
       "                                               overview  runtime  \\\n",
       "1245  The Texas Rangers chase down a gang of outlaws...      149   \n",
       "\n",
       "                        genres  ... release_year     profit  \\\n",
       "1245  Action|Adventure|Western  ...         2013 -165710090   \n",
       "\n",
       "                       genres_list    directors_list  \\\n",
       "1245  [Action, Adventure, Western]  [Gore Verbinski]   \n",
       "\n",
       "                                            actors_list  \\\n",
       "1245  [Johnny Depp, Armie Hammer, William Fichtner, ...   \n",
       "\n",
       "                                           actors_pairs  \\\n",
       "1245  [(Johnny Depp, Armie Hammer), (Johnny Depp, Wi...   \n",
       "\n",
       "                              production_companies_list release_month  \\\n",
       "1245  [Walt Disney Pictures, Jerry Bruckheimer Films...             7   \n",
       "\n",
       "     original_title_length overview_words_count  \n",
       "1245                    15                   68  \n",
       "\n",
       "[1 rows x 23 columns]"
      ],
      "text/html": "<div>\n<style scoped>\n    .dataframe tbody tr th:only-of-type {\n        vertical-align: middle;\n    }\n\n    .dataframe tbody tr th {\n        vertical-align: top;\n    }\n\n    .dataframe thead th {\n        text-align: right;\n    }\n</style>\n<table border=\"1\" class=\"dataframe\">\n  <thead>\n    <tr style=\"text-align: right;\">\n      <th></th>\n      <th>imdb_id</th>\n      <th>budget</th>\n      <th>revenue</th>\n      <th>original_title</th>\n      <th>cast</th>\n      <th>director</th>\n      <th>tagline</th>\n      <th>overview</th>\n      <th>runtime</th>\n      <th>genres</th>\n      <th>...</th>\n      <th>release_year</th>\n      <th>profit</th>\n      <th>genres_list</th>\n      <th>directors_list</th>\n      <th>actors_list</th>\n      <th>actors_pairs</th>\n      <th>production_companies_list</th>\n      <th>release_month</th>\n      <th>original_title_length</th>\n      <th>overview_words_count</th>\n    </tr>\n  </thead>\n  <tbody>\n    <tr>\n      <th>1245</th>\n      <td>tt1210819</td>\n      <td>255000000</td>\n      <td>89289910</td>\n      <td>The Lone Ranger</td>\n      <td>Johnny Depp|Armie Hammer|William Fichtner|Hele...</td>\n      <td>Gore Verbinski</td>\n      <td>Never Take Off the Mask</td>\n      <td>The Texas Rangers chase down a gang of outlaws...</td>\n      <td>149</td>\n      <td>Action|Adventure|Western</td>\n      <td>...</td>\n      <td>2013</td>\n      <td>-165710090</td>\n      <td>[Action, Adventure, Western]</td>\n      <td>[Gore Verbinski]</td>\n      <td>[Johnny Depp, Armie Hammer, William Fichtner, ...</td>\n      <td>[(Johnny Depp, Armie Hammer), (Johnny Depp, Wi...</td>\n      <td>[Walt Disney Pictures, Jerry Bruckheimer Films...</td>\n      <td>7</td>\n      <td>15</td>\n      <td>68</td>\n    </tr>\n  </tbody>\n</table>\n<p>1 rows × 23 columns</p>\n</div>"
     },
     "metadata": {},
     "execution_count": 18
    }
   ],
   "source": [
    "# +\n",
    "answers['7'] = '5. The Lone Ranger (tt1210819)'\n",
    "data[data.profit == data.profit.min()]"
   ]
  },
  {
   "source": [
    "ВАРИАНТ 2"
   ],
   "cell_type": "markdown",
   "metadata": {}
  },
  {
   "cell_type": "code",
   "execution_count": 19,
   "metadata": {},
   "outputs": [
    {
     "output_type": "execute_result",
     "data": {
      "text/plain": [
       "        imdb_id     budget   revenue   original_title  \\\n",
       "1245  tt1210819  255000000  89289910  The Lone Ranger   \n",
       "\n",
       "                                                   cast        director  \\\n",
       "1245  Johnny Depp|Armie Hammer|William Fichtner|Hele...  Gore Verbinski   \n",
       "\n",
       "                      tagline  \\\n",
       "1245  Never Take Off the Mask   \n",
       "\n",
       "                                               overview  runtime  \\\n",
       "1245  The Texas Rangers chase down a gang of outlaws...      149   \n",
       "\n",
       "                        genres  ... release_year     profit  \\\n",
       "1245  Action|Adventure|Western  ...         2013 -165710090   \n",
       "\n",
       "                       genres_list    directors_list  \\\n",
       "1245  [Action, Adventure, Western]  [Gore Verbinski]   \n",
       "\n",
       "                                            actors_list  \\\n",
       "1245  [Johnny Depp, Armie Hammer, William Fichtner, ...   \n",
       "\n",
       "                                           actors_pairs  \\\n",
       "1245  [(Johnny Depp, Armie Hammer), (Johnny Depp, Wi...   \n",
       "\n",
       "                              production_companies_list release_month  \\\n",
       "1245  [Walt Disney Pictures, Jerry Bruckheimer Films...             7   \n",
       "\n",
       "     original_title_length overview_words_count  \n",
       "1245                    15                   68  \n",
       "\n",
       "[1 rows x 23 columns]"
      ],
      "text/html": "<div>\n<style scoped>\n    .dataframe tbody tr th:only-of-type {\n        vertical-align: middle;\n    }\n\n    .dataframe tbody tr th {\n        vertical-align: top;\n    }\n\n    .dataframe thead th {\n        text-align: right;\n    }\n</style>\n<table border=\"1\" class=\"dataframe\">\n  <thead>\n    <tr style=\"text-align: right;\">\n      <th></th>\n      <th>imdb_id</th>\n      <th>budget</th>\n      <th>revenue</th>\n      <th>original_title</th>\n      <th>cast</th>\n      <th>director</th>\n      <th>tagline</th>\n      <th>overview</th>\n      <th>runtime</th>\n      <th>genres</th>\n      <th>...</th>\n      <th>release_year</th>\n      <th>profit</th>\n      <th>genres_list</th>\n      <th>directors_list</th>\n      <th>actors_list</th>\n      <th>actors_pairs</th>\n      <th>production_companies_list</th>\n      <th>release_month</th>\n      <th>original_title_length</th>\n      <th>overview_words_count</th>\n    </tr>\n  </thead>\n  <tbody>\n    <tr>\n      <th>1245</th>\n      <td>tt1210819</td>\n      <td>255000000</td>\n      <td>89289910</td>\n      <td>The Lone Ranger</td>\n      <td>Johnny Depp|Armie Hammer|William Fichtner|Hele...</td>\n      <td>Gore Verbinski</td>\n      <td>Never Take Off the Mask</td>\n      <td>The Texas Rangers chase down a gang of outlaws...</td>\n      <td>149</td>\n      <td>Action|Adventure|Western</td>\n      <td>...</td>\n      <td>2013</td>\n      <td>-165710090</td>\n      <td>[Action, Adventure, Western]</td>\n      <td>[Gore Verbinski]</td>\n      <td>[Johnny Depp, Armie Hammer, William Fichtner, ...</td>\n      <td>[(Johnny Depp, Armie Hammer), (Johnny Depp, Wi...</td>\n      <td>[Walt Disney Pictures, Jerry Bruckheimer Films...</td>\n      <td>7</td>\n      <td>15</td>\n      <td>68</td>\n    </tr>\n  </tbody>\n</table>\n<p>1 rows × 23 columns</p>\n</div>"
     },
     "metadata": {},
     "execution_count": 19
    }
   ],
   "source": [
    "data.sort_values(by=['profit'], ascending=True).head(1)"
   ]
  },
  {
   "cell_type": "markdown",
   "metadata": {
    "colab_type": "text",
    "id": "wEOM5ERVVp-6"
   },
   "source": [
    "# 8. У скольких фильмов из датасета объем сборов оказался выше бюджета?"
   ]
  },
  {
   "cell_type": "code",
   "execution_count": 20,
   "metadata": {
    "colab": {},
    "colab_type": "code",
    "id": "y00_7HD6Vp-7"
   },
   "outputs": [
    {
     "output_type": "execute_result",
     "data": {
      "text/plain": [
       "1478"
      ]
     },
     "metadata": {},
     "execution_count": 20
    }
   ],
   "source": [
    "# +\n",
    "answers['8'] = '1478'\n",
    "len(data[data.revenue > data.budget])"
   ]
  },
  {
   "cell_type": "markdown",
   "metadata": {
    "colab_type": "text",
    "id": "xhpspA9KVp_A"
   },
   "source": [
    "# 9. Какой фильм оказался самым кассовым в 2008 году?"
   ]
  },
  {
   "cell_type": "code",
   "execution_count": 21,
   "metadata": {
    "colab": {},
    "colab_type": "code",
    "id": "MoUyQr9RVp_B"
   },
   "outputs": [
    {
     "output_type": "execute_result",
     "data": {
      "text/plain": [
       "       imdb_id     budget     revenue   original_title  \\\n",
       "599  tt0468569  185000000  1001921825  The Dark Knight   \n",
       "\n",
       "                                                  cast           director  \\\n",
       "599  Christian Bale|Michael Caine|Heath Ledger|Aaro...  Christopher Nolan   \n",
       "\n",
       "             tagline                                           overview  \\\n",
       "599  Why So Serious?  Batman raises the stakes in his war on crime. ...   \n",
       "\n",
       "     runtime                       genres  ... release_year     profit  \\\n",
       "599      152  Drama|Action|Crime|Thriller  ...         2008  816921825   \n",
       "\n",
       "                          genres_list       directors_list  \\\n",
       "599  [Drama, Action, Crime, Thriller]  [Christopher Nolan]   \n",
       "\n",
       "                                           actors_list  \\\n",
       "599  [Christian Bale, Michael Caine, Heath Ledger, ...   \n",
       "\n",
       "                                          actors_pairs  \\\n",
       "599  [(Christian Bale, Michael Caine), (Christian B...   \n",
       "\n",
       "                             production_companies_list release_month  \\\n",
       "599  [DC Comics, Legendary Pictures, Warner Bros., ...             7   \n",
       "\n",
       "    original_title_length overview_words_count  \n",
       "599                    15                   67  \n",
       "\n",
       "[1 rows x 23 columns]"
      ],
      "text/html": "<div>\n<style scoped>\n    .dataframe tbody tr th:only-of-type {\n        vertical-align: middle;\n    }\n\n    .dataframe tbody tr th {\n        vertical-align: top;\n    }\n\n    .dataframe thead th {\n        text-align: right;\n    }\n</style>\n<table border=\"1\" class=\"dataframe\">\n  <thead>\n    <tr style=\"text-align: right;\">\n      <th></th>\n      <th>imdb_id</th>\n      <th>budget</th>\n      <th>revenue</th>\n      <th>original_title</th>\n      <th>cast</th>\n      <th>director</th>\n      <th>tagline</th>\n      <th>overview</th>\n      <th>runtime</th>\n      <th>genres</th>\n      <th>...</th>\n      <th>release_year</th>\n      <th>profit</th>\n      <th>genres_list</th>\n      <th>directors_list</th>\n      <th>actors_list</th>\n      <th>actors_pairs</th>\n      <th>production_companies_list</th>\n      <th>release_month</th>\n      <th>original_title_length</th>\n      <th>overview_words_count</th>\n    </tr>\n  </thead>\n  <tbody>\n    <tr>\n      <th>599</th>\n      <td>tt0468569</td>\n      <td>185000000</td>\n      <td>1001921825</td>\n      <td>The Dark Knight</td>\n      <td>Christian Bale|Michael Caine|Heath Ledger|Aaro...</td>\n      <td>Christopher Nolan</td>\n      <td>Why So Serious?</td>\n      <td>Batman raises the stakes in his war on crime. ...</td>\n      <td>152</td>\n      <td>Drama|Action|Crime|Thriller</td>\n      <td>...</td>\n      <td>2008</td>\n      <td>816921825</td>\n      <td>[Drama, Action, Crime, Thriller]</td>\n      <td>[Christopher Nolan]</td>\n      <td>[Christian Bale, Michael Caine, Heath Ledger, ...</td>\n      <td>[(Christian Bale, Michael Caine), (Christian B...</td>\n      <td>[DC Comics, Legendary Pictures, Warner Bros., ...</td>\n      <td>7</td>\n      <td>15</td>\n      <td>67</td>\n    </tr>\n  </tbody>\n</table>\n<p>1 rows × 23 columns</p>\n</div>"
     },
     "metadata": {},
     "execution_count": 21
    }
   ],
   "source": [
    "# +\n",
    "answers['9'] = '4. The Dark Knight (tt0468569)'\n",
    "max_revenue = data[data.release_year == 2008].revenue.max()\n",
    "data[(data.revenue == max_revenue) & (data.release_year == 2008)]"
   ]
  },
  {
   "cell_type": "markdown",
   "metadata": {
    "colab_type": "text",
    "id": "Zi4hDKidVp_F"
   },
   "source": [
    "# 10. Самый убыточный фильм за период с 2012 по 2014 г. (включительно)?\n"
   ]
  },
  {
   "cell_type": "code",
   "execution_count": 22,
   "metadata": {
    "colab": {},
    "colab_type": "code",
    "id": "XqyRmufJVp_F"
   },
   "outputs": [
    {
     "output_type": "execute_result",
     "data": {
      "text/plain": [
       "        imdb_id     budget   revenue   original_title  \\\n",
       "1245  tt1210819  255000000  89289910  The Lone Ranger   \n",
       "\n",
       "                                                   cast        director  \\\n",
       "1245  Johnny Depp|Armie Hammer|William Fichtner|Hele...  Gore Verbinski   \n",
       "\n",
       "                      tagline  \\\n",
       "1245  Never Take Off the Mask   \n",
       "\n",
       "                                               overview  runtime  \\\n",
       "1245  The Texas Rangers chase down a gang of outlaws...      149   \n",
       "\n",
       "                        genres  ... release_year     profit  \\\n",
       "1245  Action|Adventure|Western  ...         2013 -165710090   \n",
       "\n",
       "                       genres_list    directors_list  \\\n",
       "1245  [Action, Adventure, Western]  [Gore Verbinski]   \n",
       "\n",
       "                                            actors_list  \\\n",
       "1245  [Johnny Depp, Armie Hammer, William Fichtner, ...   \n",
       "\n",
       "                                           actors_pairs  \\\n",
       "1245  [(Johnny Depp, Armie Hammer), (Johnny Depp, Wi...   \n",
       "\n",
       "                              production_companies_list release_month  \\\n",
       "1245  [Walt Disney Pictures, Jerry Bruckheimer Films...             7   \n",
       "\n",
       "     original_title_length overview_words_count  \n",
       "1245                    15                   68  \n",
       "\n",
       "[1 rows x 23 columns]"
      ],
      "text/html": "<div>\n<style scoped>\n    .dataframe tbody tr th:only-of-type {\n        vertical-align: middle;\n    }\n\n    .dataframe tbody tr th {\n        vertical-align: top;\n    }\n\n    .dataframe thead th {\n        text-align: right;\n    }\n</style>\n<table border=\"1\" class=\"dataframe\">\n  <thead>\n    <tr style=\"text-align: right;\">\n      <th></th>\n      <th>imdb_id</th>\n      <th>budget</th>\n      <th>revenue</th>\n      <th>original_title</th>\n      <th>cast</th>\n      <th>director</th>\n      <th>tagline</th>\n      <th>overview</th>\n      <th>runtime</th>\n      <th>genres</th>\n      <th>...</th>\n      <th>release_year</th>\n      <th>profit</th>\n      <th>genres_list</th>\n      <th>directors_list</th>\n      <th>actors_list</th>\n      <th>actors_pairs</th>\n      <th>production_companies_list</th>\n      <th>release_month</th>\n      <th>original_title_length</th>\n      <th>overview_words_count</th>\n    </tr>\n  </thead>\n  <tbody>\n    <tr>\n      <th>1245</th>\n      <td>tt1210819</td>\n      <td>255000000</td>\n      <td>89289910</td>\n      <td>The Lone Ranger</td>\n      <td>Johnny Depp|Armie Hammer|William Fichtner|Hele...</td>\n      <td>Gore Verbinski</td>\n      <td>Never Take Off the Mask</td>\n      <td>The Texas Rangers chase down a gang of outlaws...</td>\n      <td>149</td>\n      <td>Action|Adventure|Western</td>\n      <td>...</td>\n      <td>2013</td>\n      <td>-165710090</td>\n      <td>[Action, Adventure, Western]</td>\n      <td>[Gore Verbinski]</td>\n      <td>[Johnny Depp, Armie Hammer, William Fichtner, ...</td>\n      <td>[(Johnny Depp, Armie Hammer), (Johnny Depp, Wi...</td>\n      <td>[Walt Disney Pictures, Jerry Bruckheimer Films...</td>\n      <td>7</td>\n      <td>15</td>\n      <td>68</td>\n    </tr>\n  </tbody>\n</table>\n<p>1 rows × 23 columns</p>\n</div>"
     },
     "metadata": {},
     "execution_count": 22
    }
   ],
   "source": [
    "# +\n",
    "answers['10'] = '5. The Lone Ranger (tt1210819)'\n",
    "min_profit = data[(data.release_year >= 2012) & (data.release_year <= 2014)].profit.min()\n",
    "data[(data.release_year >= 2012) & (data.release_year <= 2014) & (data.profit == min_profit)]"
   ]
  },
  {
   "cell_type": "markdown",
   "metadata": {
    "colab_type": "text",
    "id": "EA7Sa9dkVp_I"
   },
   "source": [
    "# 11. Какого жанра фильмов больше всего?"
   ]
  },
  {
   "cell_type": "code",
   "execution_count": 23,
   "metadata": {
    "colab": {},
    "colab_type": "code",
    "id": "zsJAwJ8QVp_J"
   },
   "outputs": [
    {
     "output_type": "execute_result",
     "data": {
      "text/plain": [
       "[('Drama', 782)]"
      ]
     },
     "metadata": {},
     "execution_count": 23
    }
   ],
   "source": [
    "# +\n",
    "answers['11'] = '3. Drama'\n",
    "# эту задачу тоже можно решать разными подходами, попробуй реализовать разные варианты\n",
    "# если будешь добавлять функцию - выноси ее в предобработку что в начале\n",
    "Counter(data.genres_list.sum()).most_common(1)"
   ]
  },
  {
   "cell_type": "markdown",
   "metadata": {
    "colab_type": "text",
    "id": "Ax6g2C8SVp_M"
   },
   "source": [
    "ВАРИАНТ 2"
   ]
  },
  {
   "cell_type": "code",
   "execution_count": 24,
   "metadata": {
    "colab": {},
    "colab_type": "code",
    "id": "otO3SbrSVp_N"
   },
   "outputs": [
    {
     "output_type": "execute_result",
     "data": {
      "text/plain": [
       "{'count': 782, 'genre': 'Drama'}"
      ]
     },
     "metadata": {},
     "execution_count": 24
    }
   ],
   "source": [
    "max_in_list_values(data, 'genres_list')"
   ]
  },
  {
   "cell_type": "markdown",
   "metadata": {
    "colab_type": "text",
    "id": "T9_bPWpkVp_Q"
   },
   "source": [
    "# 12. Фильмы какого жанра чаще всего становятся прибыльными? "
   ]
  },
  {
   "cell_type": "code",
   "execution_count": 25,
   "metadata": {
    "colab": {},
    "colab_type": "code",
    "id": "Tmt8MaK1Vp_R"
   },
   "outputs": [
    {
     "output_type": "execute_result",
     "data": {
      "text/plain": [
       "[('Drama', 560)]"
      ]
     },
     "metadata": {},
     "execution_count": 25
    }
   ],
   "source": [
    "# +\n",
    "answers['12'] = '1. Drama'\n",
    "Counter(data[data.profit > 0].genres_list.sum()).most_common(1)"
   ]
  },
  {
   "cell_type": "markdown",
   "metadata": {
    "colab_type": "text",
    "id": "0F23bgsDVp_U"
   },
   "source": [
    "# 13. У какого режиссера самые большие суммарные кассовые сборы?"
   ]
  },
  {
   "cell_type": "code",
   "execution_count": 26,
   "metadata": {
    "colab": {},
    "colab_type": "code",
    "id": "K6Z3J8ygVp_X"
   },
   "outputs": [
    {
     "output_type": "execute_result",
     "data": {
      "text/plain": [
       "                  revenue\n",
       "director                 \n",
       "Peter Jackson  6490593685"
      ],
      "text/html": "<div>\n<style scoped>\n    .dataframe tbody tr th:only-of-type {\n        vertical-align: middle;\n    }\n\n    .dataframe tbody tr th {\n        vertical-align: top;\n    }\n\n    .dataframe thead th {\n        text-align: right;\n    }\n</style>\n<table border=\"1\" class=\"dataframe\">\n  <thead>\n    <tr style=\"text-align: right;\">\n      <th></th>\n      <th>revenue</th>\n    </tr>\n    <tr>\n      <th>director</th>\n      <th></th>\n    </tr>\n  </thead>\n  <tbody>\n    <tr>\n      <th>Peter Jackson</th>\n      <td>6490593685</td>\n    </tr>\n  </tbody>\n</table>\n</div>"
     },
     "metadata": {},
     "execution_count": 26
    }
   ],
   "source": [
    "# +\n",
    "answers['13'] = '5. Peter Jackson'\n",
    "data[['director', 'revenue']].groupby(['director']).sum().sort_values(by=['revenue'], ascending=False).head(1)"
   ]
  },
  {
   "cell_type": "markdown",
   "metadata": {
    "colab_type": "text",
    "id": "PsYC9FgRVp_a"
   },
   "source": [
    "# 14. Какой режисер снял больше всего фильмов в стиле Action?"
   ]
  },
  {
   "cell_type": "code",
   "execution_count": 27,
   "metadata": {
    "colab": {},
    "colab_type": "code",
    "id": "wd2M-wHeVp_b"
   },
   "outputs": [
    {
     "output_type": "execute_result",
     "data": {
      "text/plain": [
       "Robert Rodriguez    9\n",
       "Name: directors_list, dtype: int64"
      ]
     },
     "metadata": {},
     "execution_count": 27
    }
   ],
   "source": [
    "# +\n",
    "answers['14'] = 'Robert Rodriguez'\n",
    "directors_df = data[data.genres.str.contains('Action')].explode('directors_list')\n",
    "directors_df.directors_list.value_counts().head(1)"
   ]
  },
  {
   "cell_type": "markdown",
   "metadata": {
    "colab_type": "text",
    "id": "PQ0KciD7Vp_f"
   },
   "source": [
    "# 15. Фильмы с каким актером принесли самые высокие кассовые сборы в 2012 году? "
   ]
  },
  {
   "cell_type": "code",
   "execution_count": 28,
   "metadata": {
    "colab": {},
    "colab_type": "code",
    "id": "aga62oeKVp_g"
   },
   "outputs": [
    {
     "output_type": "execute_result",
     "data": {
      "text/plain": [
       "actors_list\n",
       "Chris Hemsworth    2027450773\n",
       "Name: revenue, dtype: int64"
      ]
     },
     "metadata": {},
     "execution_count": 28
    }
   ],
   "source": [
    "# +\n",
    "answers['15'] = 'Chris Hemsworth'\n",
    "data_2012 = data[data.release_year == 2012][['revenue', 'actors_list']]\n",
    "data_2012 = data_2012.explode('actors_list')\n",
    "data_2012.groupby('actors_list').revenue.sum().sort_values(ascending=False).head(1)"
   ]
  },
  {
   "cell_type": "markdown",
   "metadata": {
    "colab_type": "text",
    "id": "mWHyyL7QVp_j"
   },
   "source": [
    "# 16. Какой актер снялся в большем количестве высокобюджетных фильмов?"
   ]
  },
  {
   "cell_type": "code",
   "execution_count": 29,
   "metadata": {
    "colab": {},
    "colab_type": "code",
    "id": "qQtmHKTFVp_k"
   },
   "outputs": [
    {
     "output_type": "execute_result",
     "data": {
      "text/plain": [
       "             original_title\n",
       "actors_list                \n",
       "Matt Damon               18"
      ],
      "text/html": "<div>\n<style scoped>\n    .dataframe tbody tr th:only-of-type {\n        vertical-align: middle;\n    }\n\n    .dataframe tbody tr th {\n        vertical-align: top;\n    }\n\n    .dataframe thead th {\n        text-align: right;\n    }\n</style>\n<table border=\"1\" class=\"dataframe\">\n  <thead>\n    <tr style=\"text-align: right;\">\n      <th></th>\n      <th>original_title</th>\n    </tr>\n    <tr>\n      <th>actors_list</th>\n      <th></th>\n    </tr>\n  </thead>\n  <tbody>\n    <tr>\n      <th>Matt Damon</th>\n      <td>18</td>\n    </tr>\n  </tbody>\n</table>\n</div>"
     },
     "metadata": {},
     "execution_count": 29
    }
   ],
   "source": [
    "# +\n",
    "answers['16'] = 'Matt Damon'\n",
    "movies_high_budget = data[data.budget >= data.budget.mean()][['actors_list', 'original_title']]\n",
    "movies_high_budget = movies_high_budget.explode('actors_list')\n",
    "movies_high_budget.groupby('actors_list').count().sort_values(by='original_title', ascending=False).head(1)"
   ]
  },
  {
   "cell_type": "markdown",
   "metadata": {
    "colab_type": "text",
    "id": "NIh6AaW5Vp_n"
   },
   "source": [
    "# 17. В фильмах какого жанра больше всего снимался Nicolas Cage? "
   ]
  },
  {
   "cell_type": "code",
   "execution_count": 30,
   "metadata": {
    "colab": {},
    "colab_type": "code",
    "id": "H74SJDIBVp_n"
   },
   "outputs": [
    {
     "output_type": "execute_result",
     "data": {
      "text/plain": [
       "[('Action', 17)]"
      ]
     },
     "metadata": {},
     "execution_count": 30
    }
   ],
   "source": [
    "# +\n",
    "answers['17'] = 'Action'\n",
    "nicolas_cage_movies = data[data.cast.str.contains('Nicolas Cage')]\n",
    "Counter(nicolas_cage_movies.genres_list.sum()).most_common(1)"
   ]
  },
  {
   "cell_type": "markdown",
   "metadata": {
    "colab_type": "text",
    "id": "RqOmPRfWVp_q"
   },
   "source": [
    "# 18. Самый убыточный фильм от Paramount Pictures"
   ]
  },
  {
   "cell_type": "code",
   "execution_count": 31,
   "metadata": {
    "colab": {},
    "colab_type": "code",
    "id": "9E_B0Y96Vp_r"
   },
   "outputs": [
    {
     "output_type": "execute_result",
     "data": {
      "text/plain": [
       "       imdb_id     budget   revenue        original_title  \\\n",
       "925  tt0267626  100000000  35168966  K-19: The Widowmaker   \n",
       "\n",
       "                                                  cast         director  \\\n",
       "925  Harrison Ford|Liam Neeson|Peter Sarsgaard|Joss...  Kathryn Bigelow   \n",
       "\n",
       "                      tagline  \\\n",
       "925  Fate has found its hero.   \n",
       "\n",
       "                                              overview  runtime  \\\n",
       "925  When Russia's first nuclear submarine malfunct...      138   \n",
       "\n",
       "                     genres  ... release_year    profit  \\\n",
       "925  Thriller|Drama|History  ...         2002 -64831034   \n",
       "\n",
       "                    genres_list     directors_list  \\\n",
       "925  [Thriller, Drama, History]  [Kathryn Bigelow]   \n",
       "\n",
       "                                           actors_list  \\\n",
       "925  [Harrison Ford, Liam Neeson, Peter Sarsgaard, ...   \n",
       "\n",
       "                                          actors_pairs  \\\n",
       "925  [(Harrison Ford, Liam Neeson), (Harrison Ford,...   \n",
       "\n",
       "                             production_companies_list release_month  \\\n",
       "925  [Paramount Pictures, Intermedia Films, Nationa...             7   \n",
       "\n",
       "    original_title_length overview_words_count  \n",
       "925                    20                   23  \n",
       "\n",
       "[1 rows x 23 columns]"
      ],
      "text/html": "<div>\n<style scoped>\n    .dataframe tbody tr th:only-of-type {\n        vertical-align: middle;\n    }\n\n    .dataframe tbody tr th {\n        vertical-align: top;\n    }\n\n    .dataframe thead th {\n        text-align: right;\n    }\n</style>\n<table border=\"1\" class=\"dataframe\">\n  <thead>\n    <tr style=\"text-align: right;\">\n      <th></th>\n      <th>imdb_id</th>\n      <th>budget</th>\n      <th>revenue</th>\n      <th>original_title</th>\n      <th>cast</th>\n      <th>director</th>\n      <th>tagline</th>\n      <th>overview</th>\n      <th>runtime</th>\n      <th>genres</th>\n      <th>...</th>\n      <th>release_year</th>\n      <th>profit</th>\n      <th>genres_list</th>\n      <th>directors_list</th>\n      <th>actors_list</th>\n      <th>actors_pairs</th>\n      <th>production_companies_list</th>\n      <th>release_month</th>\n      <th>original_title_length</th>\n      <th>overview_words_count</th>\n    </tr>\n  </thead>\n  <tbody>\n    <tr>\n      <th>925</th>\n      <td>tt0267626</td>\n      <td>100000000</td>\n      <td>35168966</td>\n      <td>K-19: The Widowmaker</td>\n      <td>Harrison Ford|Liam Neeson|Peter Sarsgaard|Joss...</td>\n      <td>Kathryn Bigelow</td>\n      <td>Fate has found its hero.</td>\n      <td>When Russia's first nuclear submarine malfunct...</td>\n      <td>138</td>\n      <td>Thriller|Drama|History</td>\n      <td>...</td>\n      <td>2002</td>\n      <td>-64831034</td>\n      <td>[Thriller, Drama, History]</td>\n      <td>[Kathryn Bigelow]</td>\n      <td>[Harrison Ford, Liam Neeson, Peter Sarsgaard, ...</td>\n      <td>[(Harrison Ford, Liam Neeson), (Harrison Ford,...</td>\n      <td>[Paramount Pictures, Intermedia Films, Nationa...</td>\n      <td>7</td>\n      <td>20</td>\n      <td>23</td>\n    </tr>\n  </tbody>\n</table>\n<p>1 rows × 23 columns</p>\n</div>"
     },
     "metadata": {},
     "execution_count": 31
    }
   ],
   "source": [
    "# +\n",
    "answers['18'] = '1. K-19: The Widowmaker (tt0267626)'\n",
    "paramount_pictures_movies = data[data.production_companies.str.contains('Paramount Pictures')]\n",
    "paramount_pictures_movies[paramount_pictures_movies.profit == paramount_pictures_movies.profit.min()]"
   ]
  },
  {
   "cell_type": "markdown",
   "metadata": {
    "colab_type": "text",
    "id": "vS8Ur6ddVp_u"
   },
   "source": [
    "# 19. Какой год стал самым успешным по суммарным кассовым сборам?"
   ]
  },
  {
   "cell_type": "code",
   "execution_count": 32,
   "metadata": {
    "colab": {},
    "colab_type": "code",
    "id": "Dnbt4GdIVp_v"
   },
   "outputs": [
    {
     "output_type": "execute_result",
     "data": {
      "text/plain": [
       "                  budget      revenue  runtime  vote_average       profit  \\\n",
       "release_year                                                                \n",
       "2015          6780630004  25449202382    13355         755.2  18668572378   \n",
       "\n",
       "              release_month  original_title_length  overview_words_count  \n",
       "release_year                                                              \n",
       "2015                    842                   1601                  5524  "
      ],
      "text/html": "<div>\n<style scoped>\n    .dataframe tbody tr th:only-of-type {\n        vertical-align: middle;\n    }\n\n    .dataframe tbody tr th {\n        vertical-align: top;\n    }\n\n    .dataframe thead th {\n        text-align: right;\n    }\n</style>\n<table border=\"1\" class=\"dataframe\">\n  <thead>\n    <tr style=\"text-align: right;\">\n      <th></th>\n      <th>budget</th>\n      <th>revenue</th>\n      <th>runtime</th>\n      <th>vote_average</th>\n      <th>profit</th>\n      <th>release_month</th>\n      <th>original_title_length</th>\n      <th>overview_words_count</th>\n    </tr>\n    <tr>\n      <th>release_year</th>\n      <th></th>\n      <th></th>\n      <th></th>\n      <th></th>\n      <th></th>\n      <th></th>\n      <th></th>\n      <th></th>\n    </tr>\n  </thead>\n  <tbody>\n    <tr>\n      <th>2015</th>\n      <td>6780630004</td>\n      <td>25449202382</td>\n      <td>13355</td>\n      <td>755.2</td>\n      <td>18668572378</td>\n      <td>842</td>\n      <td>1601</td>\n      <td>5524</td>\n    </tr>\n  </tbody>\n</table>\n</div>"
     },
     "metadata": {},
     "execution_count": 32
    }
   ],
   "source": [
    "# +\n",
    "answers['19'] = '2015'\n",
    "movies_by_year = data.groupby('release_year').sum('revenue')\n",
    "movies_by_year[movies_by_year.revenue == movies_by_year.revenue.max()]"
   ]
  },
  {
   "cell_type": "markdown",
   "metadata": {
    "colab_type": "text",
    "id": "JAzJh4QAVp_z"
   },
   "source": [
    "# 20. Какой самый прибыльный год для студии Warner Bros?"
   ]
  },
  {
   "cell_type": "code",
   "execution_count": 33,
   "metadata": {
    "colab": {},
    "colab_type": "code",
    "id": "wgVu02DEVp_0"
   },
   "outputs": [
    {
     "output_type": "execute_result",
     "data": {
      "text/plain": [
       "                 budget     revenue  runtime  vote_average      profit  \\\n",
       "release_year                                                             \n",
       "2014          947600000  3243064519     1576          88.9  2295464519   \n",
       "\n",
       "              release_month  original_title_length  overview_words_count  \n",
       "release_year                                                              \n",
       "2014                     89                    176                   672  "
      ],
      "text/html": "<div>\n<style scoped>\n    .dataframe tbody tr th:only-of-type {\n        vertical-align: middle;\n    }\n\n    .dataframe tbody tr th {\n        vertical-align: top;\n    }\n\n    .dataframe thead th {\n        text-align: right;\n    }\n</style>\n<table border=\"1\" class=\"dataframe\">\n  <thead>\n    <tr style=\"text-align: right;\">\n      <th></th>\n      <th>budget</th>\n      <th>revenue</th>\n      <th>runtime</th>\n      <th>vote_average</th>\n      <th>profit</th>\n      <th>release_month</th>\n      <th>original_title_length</th>\n      <th>overview_words_count</th>\n    </tr>\n    <tr>\n      <th>release_year</th>\n      <th></th>\n      <th></th>\n      <th></th>\n      <th></th>\n      <th></th>\n      <th></th>\n      <th></th>\n      <th></th>\n    </tr>\n  </thead>\n  <tbody>\n    <tr>\n      <th>2014</th>\n      <td>947600000</td>\n      <td>3243064519</td>\n      <td>1576</td>\n      <td>88.9</td>\n      <td>2295464519</td>\n      <td>89</td>\n      <td>176</td>\n      <td>672</td>\n    </tr>\n  </tbody>\n</table>\n</div>"
     },
     "metadata": {},
     "execution_count": 33
    }
   ],
   "source": [
    "# +\n",
    "answers['20'] = '2014'\n",
    "warner_bros_movies = data[data.production_companies.str.contains('Warner Bros')]\n",
    "warner_bros_movies.groupby('release_year').sum('revenue').sort_values(by='revenue', ascending=False).head(1)"
   ]
  },
  {
   "cell_type": "markdown",
   "metadata": {
    "colab_type": "text",
    "id": "8Im1S2HRVp_4"
   },
   "source": [
    "# 21. В каком месяце за все годы суммарно вышло больше всего фильмов?"
   ]
  },
  {
   "cell_type": "code",
   "execution_count": 34,
   "metadata": {
    "colab": {},
    "colab_type": "code",
    "id": "lev6TH7gVp_4"
   },
   "outputs": [
    {
     "output_type": "execute_result",
     "data": {
      "text/plain": [
       "[(9, 227)]"
      ]
     },
     "metadata": {},
     "execution_count": 34
    }
   ],
   "source": [
    "# +\n",
    "answers['21'] = '4. Сентябрь'\n",
    "Counter(data.release_month).most_common(1)"
   ]
  },
  {
   "source": [
    "ВАРИАНТ 2"
   ],
   "cell_type": "markdown",
   "metadata": {}
  },
  {
   "cell_type": "code",
   "execution_count": 35,
   "metadata": {},
   "outputs": [
    {
     "output_type": "execute_result",
     "data": {
      "text/plain": [
       "               original_title\n",
       "release_month                \n",
       "9                         227"
      ],
      "text/html": "<div>\n<style scoped>\n    .dataframe tbody tr th:only-of-type {\n        vertical-align: middle;\n    }\n\n    .dataframe tbody tr th {\n        vertical-align: top;\n    }\n\n    .dataframe thead th {\n        text-align: right;\n    }\n</style>\n<table border=\"1\" class=\"dataframe\">\n  <thead>\n    <tr style=\"text-align: right;\">\n      <th></th>\n      <th>original_title</th>\n    </tr>\n    <tr>\n      <th>release_month</th>\n      <th></th>\n    </tr>\n  </thead>\n  <tbody>\n    <tr>\n      <th>9</th>\n      <td>227</td>\n    </tr>\n  </tbody>\n</table>\n</div>"
     },
     "metadata": {},
     "execution_count": 35
    }
   ],
   "source": [
    "data[['release_month', 'original_title']].groupby('release_month').count().sort_values(by='original_title', ascending=False).head(1)"
   ]
  },
  {
   "cell_type": "markdown",
   "metadata": {
    "colab_type": "text",
    "id": "uAJsZ_NeVp_7"
   },
   "source": [
    "# 22. Сколько суммарно вышло фильмов летом? (за июнь, июль, август)"
   ]
  },
  {
   "cell_type": "code",
   "execution_count": 36,
   "metadata": {
    "colab": {},
    "colab_type": "code",
    "id": "Aa-hEREoVp_8"
   },
   "outputs": [
    {
     "output_type": "execute_result",
     "data": {
      "text/plain": [
       "450"
      ]
     },
     "metadata": {},
     "execution_count": 36
    }
   ],
   "source": [
    "# +\n",
    "answers['22'] = '450'\n",
    "movies_summer = data[(data.release_month >= 6) & (data.release_month <= 8)]\n",
    "len(movies_summer)"
   ]
  },
  {
   "cell_type": "markdown",
   "metadata": {
    "colab_type": "text",
    "id": "G94ppOY1VqAA"
   },
   "source": [
    "# 23. Для какого режиссера зима – самое продуктивное время года? "
   ]
  },
  {
   "cell_type": "code",
   "execution_count": 37,
   "metadata": {
    "colab": {},
    "colab_type": "code",
    "id": "RhNTsamuVqAB"
   },
   "outputs": [
    {
     "output_type": "execute_result",
     "data": {
      "text/plain": [
       "[('Peter Jackson', 7)]"
      ]
     },
     "metadata": {},
     "execution_count": 37
    }
   ],
   "source": [
    "# +\n",
    "answers['23'] = '5. Peter Jackson'\n",
    "movies_winter = data[data.release_month.isin([1,2,12])]\n",
    "Counter(movies_winter.directors_list.sum()).most_common(1)"
   ]
  },
  {
   "source": [
    "ВАРИАНТ 2"
   ],
   "cell_type": "markdown",
   "metadata": {}
  },
  {
   "cell_type": "code",
   "execution_count": 38,
   "metadata": {},
   "outputs": [
    {
     "output_type": "execute_result",
     "data": {
      "text/plain": [
       "               original_title\n",
       "director                     \n",
       "Peter Jackson               7"
      ],
      "text/html": "<div>\n<style scoped>\n    .dataframe tbody tr th:only-of-type {\n        vertical-align: middle;\n    }\n\n    .dataframe tbody tr th {\n        vertical-align: top;\n    }\n\n    .dataframe thead th {\n        text-align: right;\n    }\n</style>\n<table border=\"1\" class=\"dataframe\">\n  <thead>\n    <tr style=\"text-align: right;\">\n      <th></th>\n      <th>original_title</th>\n    </tr>\n    <tr>\n      <th>director</th>\n      <th></th>\n    </tr>\n  </thead>\n  <tbody>\n    <tr>\n      <th>Peter Jackson</th>\n      <td>7</td>\n    </tr>\n  </tbody>\n</table>\n</div>"
     },
     "metadata": {},
     "execution_count": 38
    }
   ],
   "source": [
    "movies_winter[['director', 'original_title']].groupby(['director']).count().sort_values(by=['original_title'], ascending=False).head(1)"
   ]
  },
  {
   "cell_type": "markdown",
   "metadata": {
    "colab_type": "text",
    "id": "RBo0JVjVVqAF"
   },
   "source": [
    "# 24. Какая студия дает самые длинные названия своим фильмам по количеству символов?"
   ]
  },
  {
   "cell_type": "code",
   "execution_count": 39,
   "metadata": {
    "colab": {},
    "colab_type": "code",
    "id": "QRGS8L0iVqAG"
   },
   "outputs": [
    {
     "output_type": "execute_result",
     "data": {
      "text/plain": [
       "                   production_companies_list  original_title_length\n",
       "1448  Twentieth Century Fox Film Corporation                     83\n",
       "1448                 Four By Two Productions                     83"
      ],
      "text/html": "<div>\n<style scoped>\n    .dataframe tbody tr th:only-of-type {\n        vertical-align: middle;\n    }\n\n    .dataframe tbody tr th {\n        vertical-align: top;\n    }\n\n    .dataframe thead th {\n        text-align: right;\n    }\n</style>\n<table border=\"1\" class=\"dataframe\">\n  <thead>\n    <tr style=\"text-align: right;\">\n      <th></th>\n      <th>production_companies_list</th>\n      <th>original_title_length</th>\n    </tr>\n  </thead>\n  <tbody>\n    <tr>\n      <th>1448</th>\n      <td>Twentieth Century Fox Film Corporation</td>\n      <td>83</td>\n    </tr>\n    <tr>\n      <th>1448</th>\n      <td>Four By Two Productions</td>\n      <td>83</td>\n    </tr>\n  </tbody>\n</table>\n</div>"
     },
     "metadata": {},
     "execution_count": 39
    }
   ],
   "source": [
    "# +\n",
    "answers['24'] = '5. Four By Two Productions'\n",
    "movies_by_title_length = data.explode('production_companies_list')[['production_companies_list', 'original_title_length']]\n",
    "movies_by_title_length[movies_by_title_length.original_title_length == movies_by_title_length.original_title_length.max()]"
   ]
  },
  {
   "source": [
    "ВАРИАНТ 2"
   ],
   "cell_type": "markdown",
   "metadata": {}
  },
  {
   "cell_type": "code",
   "execution_count": 40,
   "metadata": {},
   "outputs": [
    {
     "output_type": "execute_result",
     "data": {
      "text/plain": [
       "                   production_companies_list  original_title_length\n",
       "1448                 Four By Two Productions                     83\n",
       "1448  Twentieth Century Fox Film Corporation                     83\n",
       "1314                            Walden Media                     62"
      ],
      "text/html": "<div>\n<style scoped>\n    .dataframe tbody tr th:only-of-type {\n        vertical-align: middle;\n    }\n\n    .dataframe tbody tr th {\n        vertical-align: top;\n    }\n\n    .dataframe thead th {\n        text-align: right;\n    }\n</style>\n<table border=\"1\" class=\"dataframe\">\n  <thead>\n    <tr style=\"text-align: right;\">\n      <th></th>\n      <th>production_companies_list</th>\n      <th>original_title_length</th>\n    </tr>\n  </thead>\n  <tbody>\n    <tr>\n      <th>1448</th>\n      <td>Four By Two Productions</td>\n      <td>83</td>\n    </tr>\n    <tr>\n      <th>1448</th>\n      <td>Twentieth Century Fox Film Corporation</td>\n      <td>83</td>\n    </tr>\n    <tr>\n      <th>1314</th>\n      <td>Walden Media</td>\n      <td>62</td>\n    </tr>\n  </tbody>\n</table>\n</div>"
     },
     "metadata": {},
     "execution_count": 40
    }
   ],
   "source": [
    "movies_by_title_length.sort_values(by=['original_title_length'], ascending=False).head(3)"
   ]
  },
  {
   "cell_type": "markdown",
   "metadata": {
    "colab_type": "text",
    "id": "9G0hbvR7VqAK"
   },
   "source": [
    "# 25. Описание фильмов какой студии в среднем самые длинные по количеству слов?"
   ]
  },
  {
   "cell_type": "code",
   "execution_count": 41,
   "metadata": {
    "colab": {},
    "colab_type": "code",
    "id": "Ge2GsLNxVqAK"
   },
   "outputs": [
    {
     "output_type": "execute_result",
     "data": {
      "text/plain": [
       "                                overview_words_count\n",
       "production_companies_list                           \n",
       "Midnight Picture Show                          175.0\n",
       "Heineken Branded Entertainment                 161.0\n",
       "Room 9 Entertainment                           161.0"
      ],
      "text/html": "<div>\n<style scoped>\n    .dataframe tbody tr th:only-of-type {\n        vertical-align: middle;\n    }\n\n    .dataframe tbody tr th {\n        vertical-align: top;\n    }\n\n    .dataframe thead th {\n        text-align: right;\n    }\n</style>\n<table border=\"1\" class=\"dataframe\">\n  <thead>\n    <tr style=\"text-align: right;\">\n      <th></th>\n      <th>overview_words_count</th>\n    </tr>\n    <tr>\n      <th>production_companies_list</th>\n      <th></th>\n    </tr>\n  </thead>\n  <tbody>\n    <tr>\n      <th>Midnight Picture Show</th>\n      <td>175.0</td>\n    </tr>\n    <tr>\n      <th>Heineken Branded Entertainment</th>\n      <td>161.0</td>\n    </tr>\n    <tr>\n      <th>Room 9 Entertainment</th>\n      <td>161.0</td>\n    </tr>\n  </tbody>\n</table>\n</div>"
     },
     "metadata": {},
     "execution_count": 41
    }
   ],
   "source": [
    "# +\n",
    "answers['25'] = '3. Midnight Picture Show'\n",
    "movies_by_words_count = data.explode('production_companies_list')[['production_companies_list', 'overview_words_count']]\n",
    "movies_by_words_count.groupby('production_companies_list').mean('overview_words_count').sort_values(by=['overview_words_count'], ascending=False).head(3)"
   ]
  },
  {
   "cell_type": "markdown",
   "metadata": {
    "colab_type": "text",
    "id": "FJ1AFt90VqAP"
   },
   "source": [
    "# 26. Какие фильмы входят в 1 процент лучших по рейтингу? \n",
    "по vote_average"
   ]
  },
  {
   "cell_type": "code",
   "execution_count": 42,
   "metadata": {
    "colab": {},
    "colab_type": "code",
    "id": "8qmJVq4CVqAQ"
   },
   "outputs": [
    {
     "output_type": "execute_result",
     "data": {
      "text/plain": [
       "               original_title  vote_average\n",
       "9                  Inside Out           8.0\n",
       "34                       Room           8.0\n",
       "125        The Imitation Game           8.0\n",
       "118              Interstellar           8.0\n",
       "1183  The Wolf of Wall Street           7.9"
      ],
      "text/html": "<div>\n<style scoped>\n    .dataframe tbody tr th:only-of-type {\n        vertical-align: middle;\n    }\n\n    .dataframe tbody tr th {\n        vertical-align: top;\n    }\n\n    .dataframe thead th {\n        text-align: right;\n    }\n</style>\n<table border=\"1\" class=\"dataframe\">\n  <thead>\n    <tr style=\"text-align: right;\">\n      <th></th>\n      <th>original_title</th>\n      <th>vote_average</th>\n    </tr>\n  </thead>\n  <tbody>\n    <tr>\n      <th>9</th>\n      <td>Inside Out</td>\n      <td>8.0</td>\n    </tr>\n    <tr>\n      <th>34</th>\n      <td>Room</td>\n      <td>8.0</td>\n    </tr>\n    <tr>\n      <th>125</th>\n      <td>The Imitation Game</td>\n      <td>8.0</td>\n    </tr>\n    <tr>\n      <th>118</th>\n      <td>Interstellar</td>\n      <td>8.0</td>\n    </tr>\n    <tr>\n      <th>1183</th>\n      <td>The Wolf of Wall Street</td>\n      <td>7.9</td>\n    </tr>\n  </tbody>\n</table>\n</div>"
     },
     "metadata": {},
     "execution_count": 42
    }
   ],
   "source": [
    "answers['26'] = '1. Inside Out, The Dark Knight, 12 Years a Slave'\n",
    "best_votes_interval = data.vote_average.value_counts(bins=100, ascending=False).sort_index(axis=0, ascending=False).head(3)\n",
    "left = float(best_votes_interval.index[0].left)\n",
    "right = float(best_votes_interval.index[2].right)\n",
    "data[data.vote_average < left][['original_title', 'vote_average']].sort_values(by=['vote_average'], ascending=False).head(5)\n"
   ]
  },
  {
   "cell_type": "markdown",
   "metadata": {
    "colab_type": "text",
    "id": "MdXsUXbCVqAV"
   },
   "source": [
    "# 27. Какие актеры чаще всего снимаются в одном фильме вместе?\n"
   ]
  },
  {
   "cell_type": "code",
   "execution_count": 43,
   "metadata": {},
   "outputs": [
    {
     "output_type": "execute_result",
     "data": {
      "text/plain": [
       "[(('Daniel Radcliffe', 'Rupert Grint'), 8)]"
      ]
     },
     "metadata": {},
     "execution_count": 43
    }
   ],
   "source": [
    "# +\n",
    "answers['27'] = '5. Daniel Radcliffe & Rupert Grint'\n",
    "flatten_list = reduce(lambda first_list, second_list : first_list + second_list, data.actors_pairs.tolist())\n",
    "Counter(flatten_list).most_common(1)"
   ]
  },
  {
   "cell_type": "markdown",
   "metadata": {
    "colab_type": "text",
    "id": "4ymnxEVoVqAW"
   },
   "source": [
    "ВАРИАНТ 2"
   ]
  },
  {
   "cell_type": "markdown",
   "metadata": {
    "colab_type": "text",
    "id": "U0nONFnGVqAX"
   },
   "source": [
    "# Submission"
   ]
  },
  {
   "cell_type": "code",
   "execution_count": 44,
   "metadata": {
    "colab": {},
    "colab_type": "code",
    "id": "IfcaRO9-VqAX",
    "outputId": "0f132912-32bb-4196-c98c-abfbc4ad5a5f"
   },
   "outputs": [
    {
     "output_type": "execute_result",
     "data": {
      "text/plain": [
       "{'1': '5. Pirates of the Caribbean: On Stranger Tides (tt1298650)',\n",
       " '2': '2. Gods and Generals (tt0279111)',\n",
       " '3': '3. Winnie the Pooh (tt1449283)',\n",
       " '4': '110',\n",
       " '5': '107',\n",
       " '6': '5. Avatar (tt0499549)',\n",
       " '7': '5. The Lone Ranger (tt1210819)',\n",
       " '8': '1478',\n",
       " '9': '4. The Dark Knight (tt0468569)',\n",
       " '10': '5. The Lone Ranger (tt1210819)',\n",
       " '11': '3. Drama',\n",
       " '12': '1. Drama',\n",
       " '13': '5. Peter Jackson',\n",
       " '14': 'Robert Rodriguez',\n",
       " '15': 'Chris Hemsworth',\n",
       " '16': 'Matt Damon',\n",
       " '17': 'Action',\n",
       " '18': '1. K-19: The Widowmaker (tt0267626)',\n",
       " '19': '2015',\n",
       " '20': '2014',\n",
       " '21': '4. Сентябрь',\n",
       " '22': '450',\n",
       " '23': '5. Peter Jackson',\n",
       " '24': '5. Four By Two Productions',\n",
       " '25': '3. Midnight Picture Show',\n",
       " '26': '1. Inside Out, The Dark Knight, 12 Years a Slave',\n",
       " '27': '5. Daniel Radcliffe & Rupert Grint'}"
      ]
     },
     "metadata": {},
     "execution_count": 44
    }
   ],
   "source": [
    "# в конце можно посмотреть свои ответы к каждому вопросу\n",
    "answers"
   ]
  },
  {
   "cell_type": "code",
   "execution_count": 45,
   "metadata": {
    "colab": {},
    "colab_type": "code",
    "id": "SiRmHPl8VqAd"
   },
   "outputs": [
    {
     "output_type": "execute_result",
     "data": {
      "text/plain": [
       "27"
      ]
     },
     "metadata": {},
     "execution_count": 45
    }
   ],
   "source": [
    "# и убедиться что ни чего не пропустил)\n",
    "len(answers)"
   ]
  },
  {
   "cell_type": "code",
   "execution_count": 0,
   "metadata": {
    "colab": {},
    "colab_type": "code",
    "id": "uCfuTkRbVqAg"
   },
   "outputs": [],
   "source": []
  },
  {
   "cell_type": "code",
   "execution_count": 0,
   "metadata": {
    "colab": {},
    "colab_type": "code",
    "id": "Vwx3NrkSVqAl"
   },
   "outputs": [],
   "source": []
  }
 ],
 "metadata": {
  "colab": {
   "name": "Copy of [SF-DST] Movies IMBD v4.1 TEMPLATE.ipynb",
   "provenance": []
  },
  "kernelspec": {
   "display_name": "Python 3",
   "language": "python",
   "name": "python3"
  },
  "language_info": {
   "codemirror_mode": {
    "name": "ipython",
    "version": 3
   },
   "file_extension": ".py",
   "mimetype": "text/x-python",
   "name": "python",
   "nbconvert_exporter": "python",
   "pygments_lexer": "ipython3",
   "version": "3.6.9"
  }
 },
 "nbformat": 4,
 "nbformat_minor": 1
}